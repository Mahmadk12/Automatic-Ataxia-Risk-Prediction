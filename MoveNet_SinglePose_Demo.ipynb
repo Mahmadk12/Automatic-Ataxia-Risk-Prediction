{
  "cells": [
    {
      "cell_type": "markdown",
      "metadata": {
        "id": "view-in-github",
        "colab_type": "text"
      },
      "source": [
        "<a href=\"https://colab.research.google.com/github/Masum06/Automated-Ataxia-Gait/blob/main/MoveNet_SinglePose_Demo.ipynb\" target=\"_parent\"><img src=\"https://colab.research.google.com/assets/colab-badge.svg\" alt=\"Open In Colab\"/></a>"
      ]
    },
    {
      "cell_type": "markdown",
      "metadata": {
        "id": "toCy3v03Dwx7"
      },
      "source": [
        "##### Copyright 2021 The TensorFlow Hub Authors.\n",
        "\n",
        "Licensed under the Apache License, Version 2.0 (the \"License\");"
      ]
    },
    {
      "cell_type": "code",
      "execution_count": null,
      "metadata": {
        "id": "QKe-ubNcDvgv"
      },
      "outputs": [],
      "source": [
        "# Copyright 2021 The TensorFlow Hub Authors. All Rights Reserved.\n",
        "#\n",
        "# Licensed under the Apache License, Version 2.0 (the \"License\");\n",
        "# you may not use this file except in compliance with the License.\n",
        "# You may obtain a copy of the License at\n",
        "#\n",
        "#     http://www.apache.org/licenses/LICENSE-2.0\n",
        "#\n",
        "# Unless required by applicable law or agreed to in writing, software\n",
        "# distributed under the License is distributed on an \"AS IS\" BASIS,\n",
        "# WITHOUT WARRANTIES OR CONDITIONS OF ANY KIND, either express or implied.\n",
        "# See the License for the specific language governing permissions and\n",
        "# limitations under the License.\n",
        "# =============================================================================="
      ]
    },
    {
      "cell_type": "markdown",
      "metadata": {
        "id": "KqtQzBCpIJ7Y"
      },
      "source": [
        "# MoveNet: Ultra fast and accurate pose detection model."
      ]
    },
    {
      "cell_type": "markdown",
      "metadata": {
        "id": "MCmFOosnSkCd"
      },
      "source": [
        "<table class=\"tfo-notebook-buttons\" align=\"left\">\n",
        "  <td>\n",
        "    <a target=\"_blank\" href=\"https://www.tensorflow.org/hub/tutorials/movenet\"><img src=\"https://www.tensorflow.org/images/tf_logo_32px.png\" />View on TensorFlow.org</a>\n",
        "  </td>\n",
        "  <td>\n",
        "    <a target=\"_blank\" href=\"https://colab.research.google.com/github/tensorflow/hub/blob/master/examples/colab/movenet.ipynb\"><img src=\"https://www.tensorflow.org/images/colab_logo_32px.png\" />Run in Google Colab</a>\n",
        "  </td>\n",
        "  <td>\n",
        "    <a target=\"_blank\" href=\"https://github.com/tensorflow/hub/blob/master/examples/colab/movenet.ipynb\"><img src=\"https://www.tensorflow.org/images/GitHub-Mark-32px.png\" />View on GitHub</a>\n",
        "  </td>\n",
        "  <td>\n",
        "    <a href=\"https://storage.googleapis.com/tensorflow_docs/hub/examples/colab/movenet.ipynb\"><img src=\"https://www.tensorflow.org/images/download_logo_32px.png\" />Download notebook</a>\n",
        "  </td>\n",
        "  <td>\n",
        "    <a href=\"https://tfhub.dev/s?q=movenet\"><img src=\"https://www.tensorflow.org/images/hub_logo_32px.png\" />See TF Hub models</a>\n",
        "  </td>\n",
        "</table>"
      ]
    },
    {
      "cell_type": "markdown",
      "metadata": {
        "id": "6x99e0aEY_d6"
      },
      "source": [
        "**[MoveNet](https://t.co/QpfnVL0YYI?amp=1)** is an ultra fast and accurate model that detects 17 keypoints of a body. The model is offered on [TF Hub](https://tfhub.dev/s?q=movenet) with two variants, known as Lightning and Thunder. Lightning is intended for latency-critical applications, while Thunder is intended for applications that require high accuracy. Both models run faster than real time (30+ FPS) on most modern desktops, laptops, and phones, which proves crucial for live fitness, health, and wellness applications.\n",
        "\n",
        "\n",
        "\n",
        "*Images downloaded from Pexels (https://www.pexels.com/)\n",
        "\n",
        "This Colab walks you through the details of how to load MoveNet, and run inference on the input image and video below.\n",
        "\n",
        "Note: check out the [live demo](https://storage.googleapis.com/tfjs-models/demos/pose-detection/index.html?model=movenet) for how the model works!"
      ]
    },
    {
      "cell_type": "markdown",
      "metadata": {
        "id": "10_zkgbZBkIE"
      },
      "source": [
        "# Human Pose Estimation with MoveNet"
      ]
    },
    {
      "cell_type": "markdown",
      "metadata": {
        "id": "9u_VGR6_BmbZ"
      },
      "source": [
        "## Visualization libraries & Imports"
      ]
    },
    {
      "cell_type": "code",
      "execution_count": null,
      "metadata": {
        "id": "TtcwSIcgbIVN",
        "colab": {
          "base_uri": "https://localhost:8080/"
        },
        "outputId": "9ee8a9d9-b39c-4e63-b38c-1c5bdda583c4"
      },
      "outputs": [
        {
          "output_type": "stream",
          "name": "stdout",
          "text": [
            "  Building wheel for tensorflow-docs (setup.py) ... \u001b[?25l\u001b[?25hdone\n"
          ]
        }
      ],
      "source": [
        "!pip install -q imageio\n",
        "!pip install -q opencv-python\n",
        "!pip install -q git+https://github.com/tensorflow/docs"
      ]
    },
    {
      "cell_type": "code",
      "execution_count": null,
      "metadata": {
        "id": "9BLeJv-pCCld"
      },
      "outputs": [],
      "source": [
        "import tensorflow as tf\n",
        "import tensorflow_hub as hub\n",
        "from tensorflow_docs.vis import embed\n",
        "import numpy as np\n",
        "import cv2\n",
        "\n",
        "# Import matplotlib libraries\n",
        "from matplotlib import pyplot as plt\n",
        "from matplotlib.collections import LineCollection\n",
        "import matplotlib.patches as patches\n",
        "\n",
        "# Some modules to display an animation using imageio.\n",
        "import imageio\n",
        "from IPython.display import HTML, display "
      ]
    },
    {
      "cell_type": "code",
      "execution_count": null,
      "metadata": {
        "id": "bEJBMeRb3YUy"
      },
      "outputs": [],
      "source": [
        "#@title Helper functions for visualization\n",
        "\n",
        "# Dictionary that maps from joint names to keypoint indices.\n",
        "KEYPOINT_DICT = {\n",
        "    'nose': 0,\n",
        "    'left_eye': 1,\n",
        "    'right_eye': 2,\n",
        "    'left_ear': 3,\n",
        "    'right_ear': 4,\n",
        "    'left_shoulder': 5,\n",
        "    'right_shoulder': 6,\n",
        "    'left_elbow': 7,\n",
        "    'right_elbow': 8,\n",
        "    'left_wrist': 9,\n",
        "    'right_wrist': 10,\n",
        "    'left_hip': 11,\n",
        "    'right_hip': 12,\n",
        "    'left_knee': 13,\n",
        "    'right_knee': 14,\n",
        "    'left_ankle': 15,\n",
        "    'right_ankle': 16\n",
        "}\n",
        "\n",
        "# Maps bones to a matplotlib color name.\n",
        "KEYPOINT_EDGE_INDS_TO_COLOR = {\n",
        "    (0, 1): 'm',\n",
        "    (0, 2): 'c',\n",
        "    (1, 3): 'm',\n",
        "    (2, 4): 'c',\n",
        "    (0, 5): 'm',\n",
        "    (0, 6): 'c',\n",
        "    (5, 7): 'm',\n",
        "    (7, 9): 'm',\n",
        "    (6, 8): 'c',\n",
        "    (8, 10): 'c',\n",
        "    (5, 6): 'y',\n",
        "    (5, 11): 'm',\n",
        "    (6, 12): 'c',\n",
        "    (11, 12): 'y',\n",
        "    (11, 13): 'm',\n",
        "    (13, 15): 'm',\n",
        "    (12, 14): 'c',\n",
        "    (14, 16): 'c'\n",
        "}\n",
        "\n",
        "def _keypoints_and_edges_for_display(keypoints_with_scores,\n",
        "                                     height,\n",
        "                                     width,\n",
        "                                     keypoint_threshold=0.11):\n",
        "  \"\"\"Returns high confidence keypoints and edges for visualization.\n",
        "\n",
        "  Args:\n",
        "    keypoints_with_scores: A numpy array with shape [1, 1, 17, 3] representing\n",
        "      the keypoint coordinates and scores returned from the MoveNet model.\n",
        "    height: height of the image in pixels.\n",
        "    width: width of the image in pixels.\n",
        "    keypoint_threshold: minimum confidence score for a keypoint to be\n",
        "      visualized.\n",
        "\n",
        "  Returns:\n",
        "    A (keypoints_xy, edges_xy, edge_colors) containing:\n",
        "      * the coordinates of all keypoints of all detected entities;\n",
        "      * the coordinates of all skeleton edges of all detected entities;\n",
        "      * the colors in which the edges should be plotted.\n",
        "  \"\"\"\n",
        "  keypoints_all = []\n",
        "  keypoint_edges_all = []\n",
        "  edge_colors = []\n",
        "  num_instances, _, _, _ = keypoints_with_scores.shape\n",
        "  for idx in range(num_instances):\n",
        "    kpts_x = keypoints_with_scores[0, idx, :, 1]\n",
        "    kpts_y = keypoints_with_scores[0, idx, :, 0]\n",
        "    kpts_scores = keypoints_with_scores[0, idx, :, 2]\n",
        "    kpts_absolute_xy = np.stack(\n",
        "        [width * np.array(kpts_x), height * np.array(kpts_y)], axis=-1)\n",
        "    kpts_above_thresh_absolute = kpts_absolute_xy[\n",
        "        kpts_scores > keypoint_threshold, :]\n",
        "    keypoints_all.append(kpts_above_thresh_absolute)\n",
        "\n",
        "    for edge_pair, color in KEYPOINT_EDGE_INDS_TO_COLOR.items():\n",
        "      if (kpts_scores[edge_pair[0]] > keypoint_threshold and\n",
        "          kpts_scores[edge_pair[1]] > keypoint_threshold):\n",
        "        x_start = kpts_absolute_xy[edge_pair[0], 0]\n",
        "        y_start = kpts_absolute_xy[edge_pair[0], 1]\n",
        "        x_end = kpts_absolute_xy[edge_pair[1], 0]\n",
        "        y_end = kpts_absolute_xy[edge_pair[1], 1]\n",
        "        line_seg = np.array([[x_start, y_start], [x_end, y_end]])\n",
        "        keypoint_edges_all.append(line_seg)\n",
        "        edge_colors.append(color)\n",
        "  if keypoints_all:\n",
        "    keypoints_xy = np.concatenate(keypoints_all, axis=0)\n",
        "  else:\n",
        "    keypoints_xy = np.zeros((0, 17, 2))\n",
        "\n",
        "  if keypoint_edges_all:\n",
        "    edges_xy = np.stack(keypoint_edges_all, axis=0)\n",
        "  else:\n",
        "    edges_xy = np.zeros((0, 2, 2))\n",
        "  return keypoints_xy, edges_xy, edge_colors\n",
        "\n",
        "\n",
        "def draw_prediction_on_image(\n",
        "    image, keypoints_with_scores, crop_region=None, close_figure=False,\n",
        "    output_image_height=None):\n",
        "  \"\"\"Draws the keypoint predictions on image.\n",
        "\n",
        "  Args:\n",
        "    image: A numpy array with shape [height, width, channel] representing the\n",
        "      pixel values of the input image.\n",
        "    keypoints_with_scores: A numpy array with shape [1, 1, 17, 3] representing\n",
        "      the keypoint coordinates and scores returned from the MoveNet model.\n",
        "    crop_region: A dictionary that defines the coordinates of the bounding box\n",
        "      of the crop region in normalized coordinates (see the init_crop_region\n",
        "      function below for more detail). If provided, this function will also\n",
        "      draw the bounding box on the image.\n",
        "    output_image_height: An integer indicating the height of the output image.\n",
        "      Note that the image aspect ratio will be the same as the input image.\n",
        "\n",
        "  Returns:\n",
        "    A numpy array with shape [out_height, out_width, channel] representing the\n",
        "    image overlaid with keypoint predictions.\n",
        "  \"\"\"\n",
        "  height, width, channel = image.shape\n",
        "  aspect_ratio = float(width) / height\n",
        "  fig, ax = plt.subplots(figsize=(12 * aspect_ratio, 12))\n",
        "  # To remove the huge white borders\n",
        "  fig.tight_layout(pad=0)\n",
        "  ax.margins(0)\n",
        "  ax.set_yticklabels([])\n",
        "  ax.set_xticklabels([])\n",
        "  plt.axis('off')\n",
        "\n",
        "  im = ax.imshow(image)\n",
        "  line_segments = LineCollection([], linewidths=(4), linestyle='solid')\n",
        "  ax.add_collection(line_segments)\n",
        "  # Turn off tick labels\n",
        "  scat = ax.scatter([], [], s=60, color='#FF1493', zorder=3)\n",
        "\n",
        "  (keypoint_locs, keypoint_edges,\n",
        "   edge_colors) = _keypoints_and_edges_for_display(\n",
        "       keypoints_with_scores, height, width)\n",
        "\n",
        "  line_segments.set_segments(keypoint_edges)\n",
        "  line_segments.set_color(edge_colors)\n",
        "  if keypoint_edges.shape[0]:\n",
        "    line_segments.set_segments(keypoint_edges)\n",
        "    line_segments.set_color(edge_colors)\n",
        "  if keypoint_locs.shape[0]:\n",
        "    scat.set_offsets(keypoint_locs)\n",
        "\n",
        "  if crop_region is not None:\n",
        "    xmin = max(crop_region['x_min'] * width, 0.0)\n",
        "    ymin = max(crop_region['y_min'] * height, 0.0)\n",
        "    rec_width = min(crop_region['x_max'], 0.99) * width - xmin\n",
        "    rec_height = min(crop_region['y_max'], 0.99) * height - ymin\n",
        "    rect = patches.Rectangle(\n",
        "        (xmin,ymin),rec_width,rec_height,\n",
        "        linewidth=1,edgecolor='b',facecolor='none')\n",
        "    ax.add_patch(rect)\n",
        "\n",
        "  fig.canvas.draw()\n",
        "  image_from_plot = np.frombuffer(fig.canvas.tostring_rgb(), dtype=np.uint8)\n",
        "  image_from_plot = image_from_plot.reshape(\n",
        "      fig.canvas.get_width_height()[::-1] + (3,))\n",
        "  plt.close(fig)\n",
        "  if output_image_height is not None:\n",
        "    output_image_width = int(output_image_height / height * width)\n",
        "    image_from_plot = cv2.resize(\n",
        "        image_from_plot, dsize=(output_image_width, output_image_height),\n",
        "         interpolation=cv2.INTER_CUBIC)\n",
        "  return image_from_plot\n",
        "\n",
        "def to_gif(images, fps):\n",
        "  \"\"\"Converts image sequence (4D numpy array) to gif.\"\"\"\n",
        "  imageio.mimsave('./animation.gif', images, fps=fps)\n",
        "  return embed.embed_file('./animation.gif')\n",
        "\n",
        "def progress(value, max=100):\n",
        "  return HTML(\"\"\"\n",
        "      <progress\n",
        "          value='{value}'\n",
        "          max='{max}',\n",
        "          style='width: 100%'\n",
        "      >\n",
        "          {value}\n",
        "      </progress>\n",
        "  \"\"\".format(value=value, max=max))"
      ]
    },
    {
      "cell_type": "markdown",
      "metadata": {
        "id": "UvrN0iQiOxhR"
      },
      "source": [
        "## Load Model from TF hub"
      ]
    },
    {
      "cell_type": "code",
      "execution_count": null,
      "metadata": {
        "id": "zeGHgANcT7a1"
      },
      "outputs": [],
      "source": [
        "model_name = \"movenet_lightning\" #@param [\"movenet_lightning\", \"movenet_thunder\", \"movenet_lightning_f16.tflite\", \"movenet_thunder_f16.tflite\", \"movenet_lightning_int8.tflite\", \"movenet_thunder_int8.tflite\"]\n",
        "\n",
        "if \"tflite\" in model_name:\n",
        "  if \"movenet_lightning_f16\" in model_name:\n",
        "    !wget -q -O model.tflite https://tfhub.dev/google/lite-model/movenet/singlepose/lightning/tflite/float16/4?lite-format=tflite\n",
        "    input_size = 192\n",
        "  elif \"movenet_thunder_f16\" in model_name:\n",
        "    !wget -q -O model.tflite https://tfhub.dev/google/lite-model/movenet/singlepose/thunder/tflite/float16/4?lite-format=tflite\n",
        "    input_size = 256\n",
        "  elif \"movenet_lightning_int8\" in model_name:\n",
        "    !wget -q -O model.tflite https://tfhub.dev/google/lite-model/movenet/singlepose/lightning/tflite/int8/4?lite-format=tflite\n",
        "    input_size = 192\n",
        "  elif \"movenet_thunder_int8\" in model_name:\n",
        "    !wget -q -O model.tflite https://tfhub.dev/google/lite-model/movenet/singlepose/thunder/tflite/int8/4?lite-format=tflite\n",
        "    input_size = 256\n",
        "  else:\n",
        "    raise ValueError(\"Unsupported model name: %s\" % model_name)\n",
        "\n",
        "  # Initialize the TFLite interpreter\n",
        "  interpreter = tf.lite.Interpreter(model_path=\"model.tflite\")\n",
        "  interpreter.allocate_tensors()\n",
        "\n",
        "  def movenet(input_image):\n",
        "    \"\"\"Runs detection on an input image.\n",
        "\n",
        "    Args:\n",
        "      input_image: A [1, height, width, 3] tensor represents the input image\n",
        "        pixels. Note that the height/width should already be resized and match the\n",
        "        expected input resolution of the model before passing into this function.\n",
        "\n",
        "    Returns:\n",
        "      A [1, 1, 17, 3] float numpy array representing the predicted keypoint\n",
        "      coordinates and scores.\n",
        "    \"\"\"\n",
        "    # TF Lite format expects tensor type of uint8.\n",
        "    input_image = tf.cast(input_image, dtype=tf.uint8)\n",
        "    input_details = interpreter.get_input_details()\n",
        "    output_details = interpreter.get_output_details()\n",
        "    interpreter.set_tensor(input_details[0]['index'], input_image.numpy())\n",
        "    # Invoke inference.\n",
        "    interpreter.invoke()\n",
        "    # Get the model prediction.\n",
        "    keypoints_with_scores = interpreter.get_tensor(output_details[0]['index'])\n",
        "    return keypoints_with_scores\n",
        "\n",
        "else:\n",
        "  if \"movenet_lightning\" in model_name:\n",
        "    module = hub.load(\"https://tfhub.dev/google/movenet/singlepose/lightning/4\")\n",
        "    input_size = 192\n",
        "  elif \"movenet_thunder\" in model_name:\n",
        "    module = hub.load(\"https://tfhub.dev/google/movenet/singlepose/thunder/4\")\n",
        "    input_size = 256\n",
        "  else:\n",
        "    raise ValueError(\"Unsupported model name: %s\" % model_name)\n",
        "\n",
        "  def movenet(input_image):\n",
        "    \"\"\"Runs detection on an input image.\n",
        "\n",
        "    Args:\n",
        "      input_image: A [1, height, width, 3] tensor represents the input image\n",
        "        pixels. Note that the height/width should already be resized and match the\n",
        "        expected input resolution of the model before passing into this function.\n",
        "\n",
        "    Returns:\n",
        "      A [1, 1, 17, 3] float numpy array representing the predicted keypoint\n",
        "      coordinates and scores.\n",
        "    \"\"\"\n",
        "    model = module.signatures['serving_default']\n",
        "\n",
        "    # SavedModel format expects tensor type of int32.\n",
        "    input_image = tf.cast(input_image, dtype=tf.int32)\n",
        "    # Run model inference.\n",
        "    outputs = model(input_image)\n",
        "    # Output is a [1, 1, 17, 3] tensor.\n",
        "    keypoints_with_scores = outputs['output_0'].numpy()\n",
        "    return keypoints_with_scores"
      ]
    },
    {
      "cell_type": "markdown",
      "metadata": {
        "id": "-h1qHYaqD9ap"
      },
      "source": [
        "## Single Image Example"
      ]
    },
    {
      "cell_type": "markdown",
      "metadata": {
        "id": "ymTVR2I9x22I"
      },
      "source": [
        "This session demonstrates the minumum working example of running the model on a **single image** to predict the 17 human keypoints."
      ]
    },
    {
      "cell_type": "markdown",
      "metadata": {
        "id": "5I3xBq80E3N_"
      },
      "source": [
        "### Load Input Image"
      ]
    },
    {
      "cell_type": "code",
      "source": [
        "from google.colab import drive\n",
        "drive.mount('/gdrive')"
      ],
      "metadata": {
        "id": "iohYiz1E7XvX",
        "colab": {
          "base_uri": "https://localhost:8080/"
        },
        "outputId": "e2ff7d02-c516-4c0e-eb79-f13f817c873b"
      },
      "execution_count": null,
      "outputs": [
        {
          "output_type": "stream",
          "name": "stdout",
          "text": [
            "Mounted at /gdrive\n"
          ]
        }
      ]
    },
    {
      "cell_type": "code",
      "source": [
        "!cp /gdrive/MyDrive/data/Collection2.zip ./"
      ],
      "metadata": {
        "id": "CucymTOm0DKn"
      },
      "execution_count": null,
      "outputs": []
    },
    {
      "cell_type": "code",
      "source": [
        "!jar xvf Collection2.zip"
      ],
      "metadata": {
        "id": "ggkNP4Eg30NB"
      },
      "execution_count": null,
      "outputs": []
    },
    {
      "cell_type": "code",
      "source": [
        "!rm Collection2.zip "
      ],
      "metadata": {
        "id": "xUUJMGiD8Yq5"
      },
      "execution_count": null,
      "outputs": []
    },
    {
      "cell_type": "code",
      "source": [
        "ls -l"
      ],
      "metadata": {
        "colab": {
          "base_uri": "https://localhost:8080/"
        },
        "id": "l5TO-gXhxec5",
        "outputId": "1de3bc73-ef2a-488e-c4db-4707eb4ff710"
      },
      "execution_count": null,
      "outputs": [
        {
          "output_type": "stream",
          "name": "stdout",
          "text": [
            "total 16\n",
            "drwxr-xr-x 164 root root 12288 Jan 15 17:56 \u001b[0m\u001b[01;34mCollection2\u001b[0m/\n",
            "drwxr-xr-x   1 root root  4096 Jan  7 14:33 \u001b[01;34msample_data\u001b[0m/\n"
          ]
        }
      ]
    },
    {
      "cell_type": "code",
      "execution_count": null,
      "metadata": {
        "id": "lJZYQ8KYFQ6x"
      },
      "outputs": [],
      "source": [
        "# Load the input image.\n",
        "image_path = 'per_1_001_cropped.png'\n",
        "image = tf.io.read_file(image_path)\n",
        "image = tf.image.decode_jpeg(image)[:,:,:3]"
      ]
    },
    {
      "cell_type": "markdown",
      "metadata": {
        "id": "S_UWRdQxE6WN"
      },
      "source": [
        "### Run Inference"
      ]
    },
    {
      "cell_type": "markdown",
      "source": [
        "### Single Image"
      ],
      "metadata": {
        "id": "RYE11ex79fR5"
      }
    },
    {
      "cell_type": "code",
      "source": [
        "from google.colab.patches import cv2_imshow"
      ],
      "metadata": {
        "id": "tK1DEFKPiZjv"
      },
      "execution_count": null,
      "outputs": []
    },
    {
      "cell_type": "code",
      "source": [
        "cv2.imwrite(image_path.replace('.png', '_cropped.png'), cv2.imread('per_1_001.png')[:450, :])"
      ],
      "metadata": {
        "colab": {
          "base_uri": "https://localhost:8080/",
          "height": 165
        },
        "id": "5mY4FbPOiZjw",
        "outputId": "c219786d-870c-4b9b-9fb3-e9aafb502b74"
      },
      "execution_count": null,
      "outputs": [
        {
          "output_type": "error",
          "ename": "NameError",
          "evalue": "ignored",
          "traceback": [
            "\u001b[0;31m---------------------------------------------------------------------------\u001b[0m",
            "\u001b[0;31mNameError\u001b[0m                                 Traceback (most recent call last)",
            "\u001b[0;32m<ipython-input-7-81c8e380726c>\u001b[0m in \u001b[0;36m<module>\u001b[0;34m()\u001b[0m\n\u001b[0;32m----> 1\u001b[0;31m \u001b[0mcv2\u001b[0m\u001b[0;34m.\u001b[0m\u001b[0mimwrite\u001b[0m\u001b[0;34m(\u001b[0m\u001b[0mimage_path\u001b[0m\u001b[0;34m.\u001b[0m\u001b[0mreplace\u001b[0m\u001b[0;34m(\u001b[0m\u001b[0;34m'.png'\u001b[0m\u001b[0;34m,\u001b[0m \u001b[0;34m'_cropped.png'\u001b[0m\u001b[0;34m)\u001b[0m\u001b[0;34m,\u001b[0m \u001b[0mcv2\u001b[0m\u001b[0;34m.\u001b[0m\u001b[0mimread\u001b[0m\u001b[0;34m(\u001b[0m\u001b[0;34m'per_1_001.png'\u001b[0m\u001b[0;34m)\u001b[0m\u001b[0;34m[\u001b[0m\u001b[0;34m:\u001b[0m\u001b[0;36m450\u001b[0m\u001b[0;34m,\u001b[0m \u001b[0;34m:\u001b[0m\u001b[0;34m]\u001b[0m\u001b[0;34m)\u001b[0m\u001b[0;34m\u001b[0m\u001b[0;34m\u001b[0m\u001b[0m\n\u001b[0m",
            "\u001b[0;31mNameError\u001b[0m: name 'image_path' is not defined"
          ]
        }
      ]
    },
    {
      "cell_type": "code",
      "execution_count": null,
      "metadata": {
        "id": "VHmTwACwFW-v"
      },
      "outputs": [],
      "source": [
        "# Resize and pad the image to keep the aspect ratio and fit the expected size.\n",
        "image_height, image_width, _ = image.shape\n",
        "input_image = tf.expand_dims(image, axis=0)\n",
        "input_image = tf.image.resize_with_pad(input_image, input_size, input_size)\n",
        "# XXX = tf.convert_to_tensor(XXX[:,:,:3])\n",
        "\n",
        "# Run model inference.\n",
        "keypoints_with_scores = movenet(input_image)\n",
        "\n",
        "# Visualize the predictions with image.\n",
        "display_image = tf.expand_dims(image, axis=0)\n",
        "display_image = tf.cast(tf.image.resize_with_pad(\n",
        "    display_image, 1280, 1280), dtype=tf.int32)\n",
        "output_overlay = draw_prediction_on_image(\n",
        "    np.squeeze(display_image.numpy(), axis=0), keypoints_with_scores)\n",
        "\n",
        "output_overlay = cv2.cvtColor(output_overlay, cv2.COLOR_BGR2RGB)\n",
        "plt.figure(figsize=(5, 5))\n",
        "plt.imshow(output_overlay)\n",
        "# _ = plt.axis('off')"
      ]
    },
    {
      "cell_type": "code",
      "source": [
        "cv2.imwrite(image_path.replace('.png', '_pose.png'), output_overlay)"
      ],
      "metadata": {
        "colab": {
          "base_uri": "https://localhost:8080/"
        },
        "id": "Sk6D14qszizJ",
        "outputId": "16768120-bdc8-4043-8903-6ac83f7089d4"
      },
      "execution_count": null,
      "outputs": [
        {
          "output_type": "execute_result",
          "data": {
            "text/plain": [
              "True"
            ]
          },
          "metadata": {},
          "execution_count": 21
        }
      ]
    },
    {
      "cell_type": "code",
      "source": [
        "xy, edes, color = _keypoints_and_edges_for_display(keypoints_with_scores, image_height, image_width)\n",
        "# xy, edes, color"
      ],
      "metadata": {
        "id": "o8XhOWVWZ0me"
      },
      "execution_count": null,
      "outputs": []
    },
    {
      "cell_type": "code",
      "source": [
        "len(xy)"
      ],
      "metadata": {
        "colab": {
          "base_uri": "https://localhost:8080/"
        },
        "id": "buNLJ2m-kM6Z",
        "outputId": "3eee4d8f-695c-42f9-f4f8-bf752f96c9ba"
      },
      "execution_count": null,
      "outputs": [
        {
          "output_type": "execute_result",
          "data": {
            "text/plain": [
              "17"
            ]
          },
          "metadata": {},
          "execution_count": 41
        }
      ]
    },
    {
      "cell_type": "code",
      "source": [
        "img = cv2.imread('per_1_023.png')\n",
        "img.shape"
      ],
      "metadata": {
        "colab": {
          "base_uri": "https://localhost:8080/"
        },
        "id": "N6Pxc6SxqZOp",
        "outputId": "3ed9a02b-ebe7-4045-a760-45d10b9f884f"
      },
      "execution_count": null,
      "outputs": [
        {
          "output_type": "execute_result",
          "data": {
            "text/plain": [
              "(923, 451, 3)"
            ]
          },
          "metadata": {},
          "execution_count": 46
        }
      ]
    },
    {
      "cell_type": "code",
      "execution_count": null,
      "metadata": {
        "colab": {
          "base_uri": "https://localhost:8080/"
        },
        "id": "_56zQ0t2rUtq",
        "outputId": "d8b4b950-44fd-43f1-bc4c-16c42f010da3"
      },
      "outputs": [
        {
          "output_type": "execute_result",
          "data": {
            "text/plain": [
              "True"
            ]
          },
          "metadata": {},
          "execution_count": 55
        }
      ],
      "source": [
        "cv2.imwrite(\"output_image.png\", template_img)"
      ]
    },
    {
      "cell_type": "markdown",
      "metadata": {
        "id": "rKm-B0eMYeg8"
      },
      "source": [
        "## Video (Image Sequence) Example"
      ]
    },
    {
      "cell_type": "markdown",
      "metadata": {
        "id": "gdPFXabLyiKv"
      },
      "source": [
        "This section demonstrates how to apply intelligent cropping based on detections from the previous frame when the input is a sequence of frames. This allows the model to devote its attention and resources to the main subject, resulting in much better prediction quality without sacrificing the speed.\n"
      ]
    },
    {
      "cell_type": "code",
      "execution_count": null,
      "metadata": {
        "cellView": "form",
        "id": "SYFdK-JHYhrv"
      },
      "outputs": [],
      "source": [
        "#@title Cropping Algorithm\n",
        "\n",
        "# Confidence score to determine whether a keypoint prediction is reliable.\n",
        "MIN_CROP_KEYPOINT_SCORE = 0.2\n",
        "\n",
        "def init_crop_region(image_height, image_width):\n",
        "  \"\"\"Defines the default crop region.\n",
        "\n",
        "  The function provides the initial crop region (pads the full image from both\n",
        "  sides to make it a square image) when the algorithm cannot reliably determine\n",
        "  the crop region from the previous frame.\n",
        "  \"\"\"\n",
        "  if image_width > image_height:\n",
        "    box_height = image_width / image_height\n",
        "    box_width = 1.0\n",
        "    y_min = (image_height / 2 - image_width / 2) / image_height\n",
        "    x_min = 0.0\n",
        "  else:\n",
        "    box_height = 1.0\n",
        "    box_width = image_height / image_width\n",
        "    y_min = 0.0\n",
        "    x_min = (image_width / 2 - image_height / 2) / image_width\n",
        "\n",
        "  return {\n",
        "    'y_min': y_min,\n",
        "    'x_min': x_min,\n",
        "    'y_max': y_min + box_height,\n",
        "    'x_max': x_min + box_width,\n",
        "    'height': box_height,\n",
        "    'width': box_width\n",
        "  }\n",
        "\n",
        "def torso_visible(keypoints):\n",
        "  \"\"\"Checks whether there are enough torso keypoints.\n",
        "\n",
        "  This function checks whether the model is confident at predicting one of the\n",
        "  shoulders/hips which is required to determine a good crop region.\n",
        "  \"\"\"\n",
        "  return ((keypoints[0, 0, KEYPOINT_DICT['left_hip'], 2] >\n",
        "           MIN_CROP_KEYPOINT_SCORE or\n",
        "          keypoints[0, 0, KEYPOINT_DICT['right_hip'], 2] >\n",
        "           MIN_CROP_KEYPOINT_SCORE) and\n",
        "          (keypoints[0, 0, KEYPOINT_DICT['left_shoulder'], 2] >\n",
        "           MIN_CROP_KEYPOINT_SCORE or\n",
        "          keypoints[0, 0, KEYPOINT_DICT['right_shoulder'], 2] >\n",
        "           MIN_CROP_KEYPOINT_SCORE))\n",
        "\n",
        "def determine_torso_and_body_range(\n",
        "    keypoints, target_keypoints, center_y, center_x):\n",
        "  \"\"\"Calculates the maximum distance from each keypoints to the center location.\n",
        "\n",
        "  The function returns the maximum distances from the two sets of keypoints:\n",
        "  full 17 keypoints and 4 torso keypoints. The returned information will be\n",
        "  used to determine the crop size. See determineCropRegion for more detail.\n",
        "  \"\"\"\n",
        "  torso_joints = ['left_shoulder', 'right_shoulder', 'left_hip', 'right_hip']\n",
        "  max_torso_yrange = 0.0\n",
        "  max_torso_xrange = 0.0\n",
        "  for joint in torso_joints:\n",
        "    dist_y = abs(center_y - target_keypoints[joint][0])\n",
        "    dist_x = abs(center_x - target_keypoints[joint][1])\n",
        "    if dist_y > max_torso_yrange:\n",
        "      max_torso_yrange = dist_y\n",
        "    if dist_x > max_torso_xrange:\n",
        "      max_torso_xrange = dist_x\n",
        "\n",
        "  max_body_yrange = 0.0\n",
        "  max_body_xrange = 0.0\n",
        "  for joint in KEYPOINT_DICT.keys():\n",
        "    if keypoints[0, 0, KEYPOINT_DICT[joint], 2] < MIN_CROP_KEYPOINT_SCORE:\n",
        "      continue\n",
        "    dist_y = abs(center_y - target_keypoints[joint][0]);\n",
        "    dist_x = abs(center_x - target_keypoints[joint][1]);\n",
        "    if dist_y > max_body_yrange:\n",
        "      max_body_yrange = dist_y\n",
        "\n",
        "    if dist_x > max_body_xrange:\n",
        "      max_body_xrange = dist_x\n",
        "\n",
        "  return [max_torso_yrange, max_torso_xrange, max_body_yrange, max_body_xrange]\n",
        "\n",
        "def determine_crop_region(\n",
        "      keypoints, image_height,\n",
        "      image_width):\n",
        "  \"\"\"Determines the region to crop the image for the model to run inference on.\n",
        "\n",
        "  The algorithm uses the detected joints from the previous frame to estimate\n",
        "  the square region that encloses the full body of the target person and\n",
        "  centers at the midpoint of two hip joints. The crop size is determined by\n",
        "  the distances between each joints and the center point.\n",
        "  When the model is not confident with the four torso joint predictions, the\n",
        "  function returns a default crop which is the full image padded to square.\n",
        "  \"\"\"\n",
        "  target_keypoints = {}\n",
        "  for joint in KEYPOINT_DICT.keys():\n",
        "    target_keypoints[joint] = [\n",
        "      keypoints[0, 0, KEYPOINT_DICT[joint], 0] * image_height,\n",
        "      keypoints[0, 0, KEYPOINT_DICT[joint], 1] * image_width\n",
        "    ]\n",
        "\n",
        "  if torso_visible(keypoints):\n",
        "    center_y = (target_keypoints['left_hip'][0] +\n",
        "                target_keypoints['right_hip'][0]) / 2;\n",
        "    center_x = (target_keypoints['left_hip'][1] +\n",
        "                target_keypoints['right_hip'][1]) / 2;\n",
        "\n",
        "    (max_torso_yrange, max_torso_xrange,\n",
        "      max_body_yrange, max_body_xrange) = determine_torso_and_body_range(\n",
        "          keypoints, target_keypoints, center_y, center_x)\n",
        "\n",
        "    crop_length_half = np.amax(\n",
        "        [max_torso_xrange * 1.9, max_torso_yrange * 1.9,\n",
        "          max_body_yrange * 1.2, max_body_xrange * 1.2])\n",
        "\n",
        "    tmp = np.array(\n",
        "        [center_x, image_width - center_x, center_y, image_height - center_y])\n",
        "    crop_length_half = np.amin(\n",
        "        [crop_length_half, np.amax(tmp)]);\n",
        "\n",
        "    crop_corner = [center_y - crop_length_half, center_x - crop_length_half];\n",
        "\n",
        "    if crop_length_half > max(image_width, image_height) / 2:\n",
        "      return init_crop_region(image_height, image_width)\n",
        "    else:\n",
        "      crop_length = crop_length_half * 2;\n",
        "      return {\n",
        "        'y_min': crop_corner[0] / image_height,\n",
        "        'x_min': crop_corner[1] / image_width,\n",
        "        'y_max': (crop_corner[0] + crop_length) / image_height,\n",
        "        'x_max': (crop_corner[1] + crop_length) / image_width,\n",
        "        'height': (crop_corner[0] + crop_length) / image_height -\n",
        "            crop_corner[0] / image_height,\n",
        "        'width': (crop_corner[1] + crop_length) / image_width -\n",
        "            crop_corner[1] / image_width\n",
        "      }\n",
        "  else:\n",
        "    return init_crop_region(image_height, image_width)\n",
        "\n",
        "def crop_and_resize(image, crop_region, crop_size):\n",
        "  \"\"\"Crops and resize the image to prepare for the model input.\"\"\"\n",
        "  boxes=[[crop_region['y_min'], crop_region['x_min'],\n",
        "          crop_region['y_max'], crop_region['x_max']]]\n",
        "  output_image = tf.image.crop_and_resize(\n",
        "      image, box_indices=[0], boxes=boxes, crop_size=crop_size)\n",
        "  return output_image\n",
        "\n",
        "def run_inference(movenet, image, crop_region, crop_size):\n",
        "  \"\"\"Runs model inferece on the cropped region.\n",
        "\n",
        "  The function runs the model inference on the cropped region and updates the\n",
        "  model output to the original image coordinate system.\n",
        "  \"\"\"\n",
        "  image_height, image_width, _ = image.shape\n",
        "  input_image = crop_and_resize(\n",
        "    tf.expand_dims(image, axis=0), crop_region, crop_size=crop_size)\n",
        "  # Run model inference.\n",
        "  keypoints_with_scores = movenet(input_image)\n",
        "  # Update the coordinates.\n",
        "  for idx in range(17):\n",
        "    keypoints_with_scores[0, 0, idx, 0] = (\n",
        "        crop_region['y_min'] * image_height +\n",
        "        crop_region['height'] * image_height *\n",
        "        keypoints_with_scores[0, 0, idx, 0]) / image_height\n",
        "    keypoints_with_scores[0, 0, idx, 1] = (\n",
        "        crop_region['x_min'] * image_width +\n",
        "        crop_region['width'] * image_width *\n",
        "        keypoints_with_scores[0, 0, idx, 1]) / image_width\n",
        "  return keypoints_with_scores"
      ]
    },
    {
      "cell_type": "markdown",
      "metadata": {
        "id": "L2JmA1xAEntQ"
      },
      "source": [
        "### Load Input Image Sequence"
      ]
    },
    {
      "cell_type": "code",
      "execution_count": null,
      "metadata": {
        "id": "CzJxbxDckWl2"
      },
      "outputs": [],
      "source": [
        "!wget -q -O dance.gif https://github.com/tensorflow/tfjs-models/raw/master/pose-detection/assets/dance_input.gif"
      ]
    },
    {
      "cell_type": "code",
      "execution_count": null,
      "metadata": {
        "id": "IxbMFZJUkd6W"
      },
      "outputs": [],
      "source": [
        "# Load the input image.\n",
        "image_path = 'dance.gif'\n",
        "image = tf.io.read_file(image_path)\n",
        "image = tf.image.decode_gif(image)"
      ]
    },
    {
      "cell_type": "markdown",
      "metadata": {
        "id": "CJKeQ4siEtU9"
      },
      "source": [
        "### Run Inference with Cropping Algorithm"
      ]
    },
    {
      "cell_type": "code",
      "execution_count": null,
      "metadata": {
        "id": "Jt5shUI6iUkg"
      },
      "outputs": [],
      "source": [
        "import time"
      ]
    },
    {
      "cell_type": "code",
      "execution_count": null,
      "metadata": {
        "colab": {
          "base_uri": "https://localhost:8080/"
        },
        "id": "9B57XS0NZPIy",
        "outputId": "f3285dbe-e13a-4022-ae50-42c3c4ea1943"
      },
      "outputs": [
        {
          "output_type": "error",
          "ename": "NameError",
          "evalue": "ignored",
          "traceback": [
            "\u001b[0;31m---------------------------------------------------------------------------\u001b[0m",
            "\u001b[0;31mNameError\u001b[0m                                 Traceback (most recent call last)",
            "\u001b[0;32m<ipython-input-12-e2196c93e5a1>\u001b[0m in \u001b[0;36m<module>\u001b[0;34m()\u001b[0m\n\u001b[1;32m      1\u001b[0m \u001b[0mstart\u001b[0m \u001b[0;34m=\u001b[0m \u001b[0mtime\u001b[0m\u001b[0;34m.\u001b[0m\u001b[0mtime\u001b[0m\u001b[0;34m(\u001b[0m\u001b[0;34m)\u001b[0m\u001b[0;34m\u001b[0m\u001b[0;34m\u001b[0m\u001b[0m\n\u001b[1;32m      2\u001b[0m \u001b[0;31m# Load the input image.\u001b[0m\u001b[0;34m\u001b[0m\u001b[0;34m\u001b[0m\u001b[0;34m\u001b[0m\u001b[0m\n\u001b[0;32m----> 3\u001b[0;31m \u001b[0mnum_frames\u001b[0m\u001b[0;34m,\u001b[0m \u001b[0mimage_height\u001b[0m\u001b[0;34m,\u001b[0m \u001b[0mimage_width\u001b[0m\u001b[0;34m,\u001b[0m \u001b[0m_\u001b[0m \u001b[0;34m=\u001b[0m \u001b[0mimage\u001b[0m\u001b[0;34m.\u001b[0m\u001b[0mshape\u001b[0m\u001b[0;34m\u001b[0m\u001b[0;34m\u001b[0m\u001b[0m\n\u001b[0m\u001b[1;32m      4\u001b[0m \u001b[0mcrop_region\u001b[0m \u001b[0;34m=\u001b[0m \u001b[0minit_crop_region\u001b[0m\u001b[0;34m(\u001b[0m\u001b[0mimage_height\u001b[0m\u001b[0;34m,\u001b[0m \u001b[0mimage_width\u001b[0m\u001b[0;34m)\u001b[0m\u001b[0;34m\u001b[0m\u001b[0;34m\u001b[0m\u001b[0m\n\u001b[1;32m      5\u001b[0m \u001b[0mprint\u001b[0m\u001b[0;34m(\u001b[0m\u001b[0;34m\"loading done. \"\u001b[0m\u001b[0;34m,\u001b[0m \u001b[0mtime\u001b[0m\u001b[0;34m.\u001b[0m\u001b[0mtime\u001b[0m\u001b[0;34m(\u001b[0m\u001b[0;34m)\u001b[0m \u001b[0;34m-\u001b[0m \u001b[0mstart\u001b[0m\u001b[0;34m)\u001b[0m\u001b[0;34m\u001b[0m\u001b[0;34m\u001b[0m\u001b[0m\n",
            "\u001b[0;31mNameError\u001b[0m: name 'image' is not defined"
          ]
        }
      ],
      "source": [
        "start = time.time()\n",
        "# Load the input image.\n",
        "num_frames, image_height, image_width, _ = image.shape\n",
        "crop_region = init_crop_region(image_height, image_width)\n",
        "print(\"loading done. \", time.time() - start)\n",
        "\n",
        "output_images = []\n",
        "bar = display(progress(0, num_frames-1), display_id=True)\n",
        "for frame_idx in range(num_frames):\n",
        "  print(\"Frame:\",frame_idx, time.time() - start)\n",
        "  keypoints_with_scores = run_inference(\n",
        "      movenet, image[frame_idx, :, :, :], crop_region,\n",
        "      crop_size=[input_size, input_size])\n",
        "  output_images.append(draw_prediction_on_image(\n",
        "      image[frame_idx, :, :, :].numpy().astype(np.int32),\n",
        "      keypoints_with_scores, crop_region=None,\n",
        "      close_figure=True, output_image_height=300))\n",
        "  crop_region = determine_crop_region(\n",
        "      keypoints_with_scores, image_height, image_width)\n",
        "  bar.update(progress(frame_idx, num_frames-1))\n",
        "\n",
        "# Prepare gif visualization.\n",
        "print(\"Saving gif.\", time.time()- start)\n",
        "output = np.stack(output_images, axis=0)\n",
        "to_gif(output, fps=10) "
      ]
    },
    {
      "cell_type": "code",
      "execution_count": null,
      "metadata": {
        "id": "--30GSd8nAsM"
      },
      "outputs": [],
      "source": [
        "to_gif(output, fps=30)"
      ]
    },
    {
      "cell_type": "code",
      "execution_count": null,
      "metadata": {
        "id": "3NUfhp2G2lfd"
      },
      "outputs": [],
      "source": [
        "tf.convert_to_tensor(image.numpy()).shape"
      ]
    },
    {
      "cell_type": "markdown",
      "metadata": {
        "id": "MIXQL21d9_wy"
      },
      "source": [
        "## From video"
      ]
    },
    {
      "cell_type": "markdown",
      "source": [
        "### Reading video"
      ],
      "metadata": {
        "id": "D2qA_QaMB42K"
      }
    },
    {
      "cell_type": "code",
      "execution_count": null,
      "metadata": {
        "id": "YUQgCGZg-f6X"
      },
      "outputs": [],
      "source": [
        "import cv2\n",
        "import numpy as np\n",
        "\n",
        "# Create a VideoCapture object and read from input file\n",
        "# If the input is the camera, pass 0 instead of the video file name\n",
        "cap = cv2.VideoCapture('vid.mp4')\n",
        "\n",
        "frame_list = []\n",
        "# Check if camera opened successfully\n",
        "if (cap.isOpened()== False): \n",
        "  print(\"Error opening video stream or file\")\n",
        "\n",
        "# Read until video is completed\n",
        "while(cap.isOpened()):\n",
        "  # Capture frame-by-frame\n",
        "  ret, frame = cap.read()\n",
        "  if ret == True:\n",
        "\n",
        "    # Display the resulting frame\n",
        "    # cv2.imshow('Frame',frame)\n",
        "    # print(frame.shape)\n",
        "    frame_list.append(frame)\n",
        "\n",
        "    # Press Q on keyboard to  exit\n",
        "    if cv2.waitKey(25) & 0xFF == ord('q'):\n",
        "      break\n",
        "\n",
        "  # Break the loop\n",
        "  else: \n",
        "    break\n",
        "\n",
        "# When everything done, release the video capture object\n",
        "cap.release()\n",
        "\n",
        "# Closes all the frames\n",
        "cv2.destroyAllWindows()\n",
        "\n",
        "image = tf.convert_to_tensor(np.array(frame_list))\n",
        "image.shape"
      ]
    },
    {
      "cell_type": "markdown",
      "source": [
        "### Reading image directory"
      ],
      "metadata": {
        "id": "o9YwFEYIB73p"
      }
    },
    {
      "cell_type": "code",
      "source": [
        "from google.colab.patches import cv2_imshow"
      ],
      "metadata": {
        "id": "cZKDnIHKDkSb"
      },
      "execution_count": null,
      "outputs": []
    },
    {
      "cell_type": "code",
      "source": [
        "import os\n",
        "data_dir = 'Collection2/'\n",
        "videos = os.listdir(data_dir)\n",
        "videos.sort()"
      ],
      "metadata": {
        "id": "G1XokCw7-VOx"
      },
      "execution_count": null,
      "outputs": []
    },
    {
      "cell_type": "code",
      "source": [
        "videos"
      ],
      "metadata": {
        "id": "DVYaYZNF5fFe"
      },
      "execution_count": null,
      "outputs": []
    },
    {
      "cell_type": "code",
      "source": [
        "keypoints_dict = {}"
      ],
      "metadata": {
        "id": "zed2KyuwLLrg"
      },
      "execution_count": null,
      "outputs": []
    },
    {
      "cell_type": "code",
      "source": [
        "# !rm output_patient/.ipynb_checkpoints"
      ],
      "metadata": {
        "colab": {
          "base_uri": "https://localhost:8080/"
        },
        "id": "_wBiz2e6xruw",
        "outputId": "55208597-b68a-4ca8-c2ad-fc9b6ff1dec2"
      },
      "execution_count": null,
      "outputs": [
        {
          "output_type": "stream",
          "name": "stdout",
          "text": [
            "rm: cannot remove 'output_patient/.ipynb_checkpoints': Is a directory\n"
          ]
        }
      ]
    },
    {
      "cell_type": "code",
      "execution_count": null,
      "metadata": {
        "id": "5nANR6JT3X20"
      },
      "outputs": [],
      "source": [
        "bar = display(progress(0, len(videos)), display_id=True)\n",
        "\n",
        "for i in range(0, len(videos)):\n",
        "  video = videos[i]\n",
        "  frames = os.listdir(data_dir+video)\n",
        "  frames.sort()\n",
        "\n",
        "  images = []\n",
        "  for frame in frames:\n",
        "    image = cv2.imread(data_dir+video+'/'+frame)\n",
        "    images.append(image)\n",
        "\n",
        "  images = np.stack(images, axis=0)\n",
        "\n",
        "  image = tf.convert_to_tensor(images)\n",
        "  # Load the input image.\n",
        "  num_frames, image_height, image_width, _ = image.shape\n",
        "  crop_region = init_crop_region(image_height, image_width)\n",
        "\n",
        "  output_images = []\n",
        "  keypoints = []\n",
        "  \n",
        "\n",
        "  for frame_idx in range(num_frames):\n",
        "    keypoints_with_scores = run_inference(\n",
        "        movenet, image[frame_idx, :, :, :], crop_region,\n",
        "        crop_size=[input_size, input_size])\n",
        "    keypoints.append(_keypoints_and_edges_for_display(keypoints_with_scores, image_height, image_width))\n",
        "    # output_images.append(draw_prediction_on_image(\n",
        "    #     np.zeros((800, 400, 3)),\n",
        "    #     keypoints_with_scores, crop_region=None,\n",
        "    #     close_figure=True, output_image_height=300))\n",
        "    # crop_region = determine_crop_region(keypoints_with_scores, image_height, image_width)\n",
        "  bar.update(progress(i, len(videos)))\n",
        "\n",
        "  ### Prepare gif visualization.\n",
        "  ### print(\"Processing done!\")\n",
        "  keypoints_dict[video] = keypoints\n",
        "  # output = np.stack(output_images, axis=0).sum(0)\n",
        "  # cv2.imwrite('heatmaps/'+video+'.png', output)\n",
        "  # del output\n",
        "  # del output_images"
      ]
    },
    {
      "cell_type": "code",
      "source": [
        "import pickle\n",
        "outfile = open('keypoints_dict_c2.pkl','wb')\n",
        "pickle.dump(keypoints_dict, outfile)\n",
        "outfile.close() "
      ],
      "metadata": {
        "id": "mSeQ-NElLQfS"
      },
      "execution_count": null,
      "outputs": []
    },
    {
      "cell_type": "code",
      "source": [
        "from google.colab import files\n",
        "\n",
        "files.download('keypoints_dict_c2.pkl')"
      ],
      "metadata": {
        "colab": {
          "base_uri": "https://localhost:8080/",
          "height": 34
        },
        "id": "vVsWHgdiVhH5",
        "outputId": "5957d018-68ed-4e5e-b941-6e18d31d5dc7"
      },
      "execution_count": null,
      "outputs": [
        {
          "output_type": "display_data",
          "data": {
            "application/javascript": [
              "\n",
              "    async function download(id, filename, size) {\n",
              "      if (!google.colab.kernel.accessAllowed) {\n",
              "        return;\n",
              "      }\n",
              "      const div = document.createElement('div');\n",
              "      const label = document.createElement('label');\n",
              "      label.textContent = `Downloading \"${filename}\": `;\n",
              "      div.appendChild(label);\n",
              "      const progress = document.createElement('progress');\n",
              "      progress.max = size;\n",
              "      div.appendChild(progress);\n",
              "      document.body.appendChild(div);\n",
              "\n",
              "      const buffers = [];\n",
              "      let downloaded = 0;\n",
              "\n",
              "      const channel = await google.colab.kernel.comms.open(id);\n",
              "      // Send a message to notify the kernel that we're ready.\n",
              "      channel.send({})\n",
              "\n",
              "      for await (const message of channel.messages) {\n",
              "        // Send a message to notify the kernel that we're ready.\n",
              "        channel.send({})\n",
              "        if (message.buffers) {\n",
              "          for (const buffer of message.buffers) {\n",
              "            buffers.push(buffer);\n",
              "            downloaded += buffer.byteLength;\n",
              "            progress.value = downloaded;\n",
              "          }\n",
              "        }\n",
              "      }\n",
              "      const blob = new Blob(buffers, {type: 'application/binary'});\n",
              "      const a = document.createElement('a');\n",
              "      a.href = window.URL.createObjectURL(blob);\n",
              "      a.download = filename;\n",
              "      div.appendChild(a);\n",
              "      a.click();\n",
              "      div.remove();\n",
              "    }\n",
              "  "
            ],
            "text/plain": [
              "<IPython.core.display.Javascript object>"
            ]
          },
          "metadata": {}
        },
        {
          "output_type": "display_data",
          "data": {
            "application/javascript": [
              "download(\"download_8225e9e1-7b4a-4e32-9939-63efbccc9e52\", \"keypoints_dict_c2.pkl\", 16954790)"
            ],
            "text/plain": [
              "<IPython.core.display.Javascript object>"
            ]
          },
          "metadata": {}
        }
      ]
    },
    {
      "cell_type": "code",
      "source": [
        "cv2_imshow(output.sum(0)) ## Score 2"
      ],
      "metadata": {
        "id": "-X5lH6yeE2Gd"
      },
      "execution_count": null,
      "outputs": []
    },
    {
      "cell_type": "code",
      "source": [
        "cv2_imshow(output.sum(0)) ## Score 2"
      ],
      "metadata": {
        "colab": {
          "base_uri": "https://localhost:8080/",
          "height": 317
        },
        "id": "-9oq2Jb8DTjk",
        "outputId": "4987280c-19f7-4c2c-cd27-0bdbe6d24cac"
      },
      "execution_count": null,
      "outputs": [
        {
          "output_type": "display_data",
          "data": {
            "image/png": "[encoded data removed]",
            "text/plain": [
              "<PIL.Image.Image image mode=RGB size=150x300 at 0x7FDF96423450>"
            ]
          },
          "metadata": {}
        }
      ]
    },
    {
      "cell_type": "code",
      "source": [
        "xy, edes, color = _keypoints_and_edges_for_display(keypoints[30], image_height, image_width)\n",
        "xy, edes, color"
      ],
      "metadata": {
        "colab": {
          "base_uri": "https://localhost:8080/"
        },
        "id": "9oIRptadwWaf",
        "outputId": "0340c284-6d89-46e9-be58-05c94bc97820"
      },
      "execution_count": null,
      "outputs": [
        {
          "output_type": "execute_result",
          "data": {
            "text/plain": [
              "(array([[213.22365 ,  66.641594],\n",
              "        [210.29501 ,  60.034412],\n",
              "        [220.9073  ,  60.5091  ],\n",
              "        [198.96542 ,  81.31019 ],\n",
              "        [235.9743  ,  87.62626 ],\n",
              "        [159.7259  , 153.59196 ],\n",
              "        [268.09225 , 169.42128 ],\n",
              "        [ 74.87421 , 273.6188  ],\n",
              "        [357.92154 , 298.35016 ],\n",
              "        [ 56.51405 , 374.72675 ],\n",
              "        [315.18936 , 411.51428 ],\n",
              "        [193.83533 , 383.76627 ],\n",
              "        [213.45277 , 384.39453 ],\n",
              "        [122.80112 , 558.20044 ],\n",
              "        [232.94377 , 590.39453 ],\n",
              "        [224.65964 , 735.75543 ],\n",
              "        [ 92.89634 , 694.8308  ]], dtype=float32),\n",
              " array([[[213.22365 ,  66.641594],\n",
              "         [210.29501 ,  60.034412]],\n",
              " \n",
              "        [[213.22365 ,  66.641594],\n",
              "         [220.9073  ,  60.5091  ]],\n",
              " \n",
              "        [[210.29501 ,  60.034412],\n",
              "         [198.96542 ,  81.31019 ]],\n",
              " \n",
              "        [[220.9073  ,  60.5091  ],\n",
              "         [235.9743  ,  87.62626 ]],\n",
              " \n",
              "        [[213.22365 ,  66.641594],\n",
              "         [159.7259  , 153.59196 ]],\n",
              " \n",
              "        [[213.22365 ,  66.641594],\n",
              "         [268.09225 , 169.42128 ]],\n",
              " \n",
              "        [[159.7259  , 153.59196 ],\n",
              "         [ 74.87421 , 273.6188  ]],\n",
              " \n",
              "        [[ 74.87421 , 273.6188  ],\n",
              "         [ 56.51405 , 374.72675 ]],\n",
              " \n",
              "        [[268.09225 , 169.42128 ],\n",
              "         [357.92154 , 298.35016 ]],\n",
              " \n",
              "        [[357.92154 , 298.35016 ],\n",
              "         [315.18936 , 411.51428 ]],\n",
              " \n",
              "        [[159.7259  , 153.59196 ],\n",
              "         [268.09225 , 169.42128 ]],\n",
              " \n",
              "        [[159.7259  , 153.59196 ],\n",
              "         [193.83533 , 383.76627 ]],\n",
              " \n",
              "        [[268.09225 , 169.42128 ],\n",
              "         [213.45277 , 384.39453 ]],\n",
              " \n",
              "        [[193.83533 , 383.76627 ],\n",
              "         [213.45277 , 384.39453 ]],\n",
              " \n",
              "        [[193.83533 , 383.76627 ],\n",
              "         [122.80112 , 558.20044 ]],\n",
              " \n",
              "        [[122.80112 , 558.20044 ],\n",
              "         [224.65964 , 735.75543 ]],\n",
              " \n",
              "        [[213.45277 , 384.39453 ],\n",
              "         [232.94377 , 590.39453 ]],\n",
              " \n",
              "        [[232.94377 , 590.39453 ],\n",
              "         [ 92.89634 , 694.8308  ]]], dtype=float32),\n",
              " ['m',\n",
              "  'c',\n",
              "  'm',\n",
              "  'c',\n",
              "  'm',\n",
              "  'c',\n",
              "  'm',\n",
              "  'm',\n",
              "  'c',\n",
              "  'c',\n",
              "  'y',\n",
              "  'm',\n",
              "  'c',\n",
              "  'y',\n",
              "  'm',\n",
              "  'm',\n",
              "  'c',\n",
              "  'c'])"
            ]
          },
          "metadata": {},
          "execution_count": 53
        }
      ]
    },
    {
      "cell_type": "markdown",
      "source": [
        "# Drawing keypoints in image"
      ],
      "metadata": {
        "id": "SA1HLptITq-y"
      }
    },
    {
      "cell_type": "code",
      "source": [
        "import pickle\n",
        "infile = open('keypoints_dict.pkl','rb')\n",
        "keypoints_dict = pickle.load(infile)\n",
        "infile.close()"
      ],
      "metadata": {
        "id": "BcuqH-Eh170J"
      },
      "execution_count": null,
      "outputs": []
    },
    {
      "cell_type": "code",
      "source": [
        "import numpy as np\n",
        "import cv2\n",
        "from google.colab.patches import cv2_imshow\n",
        "colors = {'c': (255,255,0), 'y': (0,255,255), 'm':(255,0,255)}"
      ],
      "metadata": {
        "id": "0iEc8swFT7_F"
      },
      "execution_count": null,
      "outputs": []
    },
    {
      "cell_type": "code",
      "source": [
        "for key in keypoints_dict:\n",
        "  img = np.zeros([400, 200, 3])\n",
        "  for i in range(len(keypoints_dict[key])):\n",
        "    for (edge, color) in zip(keypoints_dict[key][i][1], \\\n",
        "                             keypoints_dict[key][i][2]):\n",
        "      # edge = edge + 0.5\n",
        "      edge = edge/2 + 0.5 # small\n",
        "      edge = edge.astype(int)\n",
        "      x1, y1 = edge[0]\n",
        "      x2, y2 = edge[1]\n",
        "      line_thickness = 1\n",
        "      cv2.line(img, (x1, y1), (x2, y2), (0, 255-i*255/180, i*255/180), thickness=line_thickness)\n",
        "    # print(x1, y1, x2, y2, color)\n",
        "  # img = cv2.resize(img, (150, 300)) \n",
        "  cv2.imwrite('merged_images_time/'+key+'.png', img)"
      ],
      "metadata": {
        "id": "T_w3ETVfgnou"
      },
      "execution_count": null,
      "outputs": []
    },
    {
      "cell_type": "code",
      "source": [
        "# Imagenet\n",
        "for key in keypoints_dict:\n",
        "  img = np.zeros([100, 100, 3])\n",
        "  for i in range(len(keypoints_dict[key])):\n",
        "    for point in keypoints_dict[key][i][0]:\n",
        "      # point = point/2 + 0.5\n",
        "      # point = point.astype(int)\n",
        "      (x, y) = point\n",
        "      x = x/4+0.5\n",
        "      y = y/8+0.5\n",
        "      x = int(x)\n",
        "      y = int(y)\n",
        "      if y<100 and x<100:\n",
        "        img[y,x] += [0.5*i*255/180,(255-i*255/180)*0.5,0]\n",
        "  img = cv2.blur(img,(5,5))\n",
        "  # img = cv2.GaussianBlur(img, (5,5),0) \n",
        "  cv2.imwrite('imagenet_ataxia/'+key+'.png', img) "
      ],
      "metadata": {
        "id": "i0Oep4DNB34P"
      },
      "execution_count": null,
      "outputs": []
    },
    {
      "cell_type": "code",
      "source": [
        "np.array([1,2])*np.array([0.5, 0.25])"
      ],
      "metadata": {
        "colab": {
          "base_uri": "https://localhost:8080/"
        },
        "id": "0dVMVS2J9P1z",
        "outputId": "f39adf4c-ed0f-43aa-bd9f-c83eef2601a0"
      },
      "execution_count": null,
      "outputs": [
        {
          "output_type": "execute_result",
          "data": {
            "text/plain": [
              "array([0.5, 0.5])"
            ]
          },
          "metadata": {},
          "execution_count": 4
        }
      ]
    },
    {
      "cell_type": "code",
      "source": [
        "# Imagenet full pose\n",
        "cg = np.array([200, 300])\n",
        "for key in keypoints_dict:\n",
        "  img = np.zeros([100, 100, 3])\n",
        "  for i in range(len(keypoints_dict[key])):\n",
        "    shift_vector = cg - keypoints_dict[key][i][0][[5,6,11,12]].mean(0)\n",
        "    shifted_edges = keypoints_dict[key][i][1] + shift_vector\n",
        "    for e in range(len(shifted_edges)):\n",
        "      edge = shifted_edges[e]\n",
        "      # edge = edge/2 + 0.5 # small\n",
        "      # edge = edge.astype(int)\n",
        "      x1, y1 = (edge[0]*np.array([1/4, 1/8])).astype(int)\n",
        "      x2, y2 = (edge[1]*np.array([1/4, 1/8])).astype(int)\n",
        "      line_thickness = 1\n",
        "      \n",
        "      cv2.line(img, (x1, y1), (x2, y2), (0,(255-i*255/180),i*255/180) , thickness=line_thickness)\n",
        "\n",
        "  # img = cv2.blur(img,(5,5))\n",
        "  # img = cv2.GaussianBlur(img, (5,5),0) \n",
        "  cv2.imwrite('imagenet_ataxia_lines/'+key+'.png', img) \n",
        "  cv2.imwrite('imagenet_ataxia_lines/'+key+'_f.png', cv2.flip(img, 1)) "
      ],
      "metadata": {
        "id": "ZQgLarJ77x2j"
      },
      "execution_count": null,
      "outputs": []
    },
    {
      "cell_type": "code",
      "source": [
        "img.shape"
      ],
      "metadata": {
        "colab": {
          "base_uri": "https://localhost:8080/"
        },
        "id": "SzIsbd17-Myl",
        "outputId": "98b0841d-502b-45ca-de6e-603004dfc62e"
      },
      "execution_count": null,
      "outputs": [
        {
          "output_type": "execute_result",
          "data": {
            "text/plain": [
              "(100, 100, 3)"
            ]
          },
          "metadata": {},
          "execution_count": 7
        }
      ]
    },
    {
      "cell_type": "code",
      "source": [
        "keypoints_dict['gait_EU-01-093.mp4'][1][0][[5,6,11,12]].mean(0)"
      ],
      "metadata": {
        "colab": {
          "base_uri": "https://localhost:8080/"
        },
        "id": "wfyI52F4T3jS",
        "outputId": "df4d1cef-83bb-4760-9f19-0c466ab14117"
      },
      "execution_count": null,
      "outputs": [
        {
          "output_type": "execute_result",
          "data": {
            "text/plain": [
              "array([195.24075, 284.639  ], dtype=float32)"
            ]
          },
          "metadata": {},
          "execution_count": 17
        }
      ]
    },
    {
      "cell_type": "code",
      "source": [
        "# cg = keypoints_dict[key][1][0][[5,6,11,12]].mean(0)\n"
      ],
      "metadata": {
        "id": "m7gYVyTLFhZZ"
      },
      "execution_count": null,
      "outputs": []
    },
    {
      "cell_type": "markdown",
      "source": [
        "### Adjusting center of gravity"
      ],
      "metadata": {
        "id": "wRo-OC0nuQ_8"
      }
    },
    {
      "cell_type": "code",
      "source": [
        "!mkdir cg_adjusted"
      ],
      "metadata": {
        "id": "JppxuUgaF3ZX"
      },
      "execution_count": null,
      "outputs": []
    },
    {
      "cell_type": "code",
      "source": [
        "cg = np.array([200, 300])\n",
        "alpha = 0.5\n",
        "for key in keypoints_dict:\n",
        "  img = np.zeros([400, 200])\n",
        "  num_frames = len(keypoints_dict[key])\n",
        "  for i in range(num_frames):\n",
        "    shift_vector = cg - keypoints_dict[key][i][0][[5,6,11,12]].mean(0)\n",
        "    shifted_edges = keypoints_dict[key][i][1] + shift_vector\n",
        "    overlay = np.zeros([400, 200])\n",
        "    prev_edges = shifted_edges\n",
        "    for e in range(len(shifted_edges)):\n",
        "      edge = shifted_edges[e]\n",
        "      prev_edge = prev_edges[e]\n",
        "      shift = edge - prev_edges\n",
        "      edge = edge/2 + 0.5 # small\n",
        "      edge = edge.astype(int)\n",
        "      x1, y1 = edge[0]\n",
        "      x2, y2 = edge[1]\n",
        "      line_thickness = 3\n",
        "      \n",
        "      cv2.line(overlay, (x1, y1), (x2, y2), 50 , thickness=line_thickness)\n",
        "      #(0,(255-i*255/180),i*255/180)\n",
        "      \n",
        "      # img = cv2.addWeighted(overlay, alpha, img, 1 - alpha, 0)\n",
        "    img += overlay\n",
        "    # print(x1, y1, x2, y2, color)\n",
        "  # img = cv2.resize(img, (150, 300)) \n",
        "  # img = cv2.blur(img,(5,5))\n",
        "  cv2.imwrite('cg_adjusted/'+key+'.png', img)"
      ],
      "metadata": {
        "id": "RNNuntUwEaRH"
      },
      "execution_count": null,
      "outputs": []
    },
    {
      "cell_type": "code",
      "source": [
        "cv2_imshow(img) # Without shifting"
      ],
      "metadata": {
        "colab": {
          "base_uri": "https://localhost:8080/",
          "height": 417
        },
        "id": "RZX5iCkEKMys",
        "outputId": "dcff1f5e-c3b0-41b9-e626-cb8c516ed9af"
      },
      "execution_count": null,
      "outputs": [
        {
          "output_type": "display_data",
          "data": {
            "image/png": "[encoded data removed]",
            "text/plain": [
              "<PIL.Image.Image image mode=L size=200x400 at 0x7F1BF9C781D0>"
            ]
          },
          "metadata": {}
        }
      ]
    },
    {
      "cell_type": "code",
      "source": [
        "cv2_imshow(img) # Without shifting"
      ],
      "metadata": {
        "colab": {
          "base_uri": "https://localhost:8080/",
          "height": 417
        },
        "id": "-yQSwTdEI-lT",
        "outputId": "cfd140fc-a3b0-4e09-852b-37a723a1da7c"
      },
      "execution_count": null,
      "outputs": [
        {
          "output_type": "display_data",
          "data": {
            "image/png": "[encoded data removed]",
            "text/plain": [
              "<PIL.Image.Image image mode=RGB size=200x400 at 0x7FF9A8E71D10>"
            ]
          },
          "metadata": {}
        }
      ]
    },
    {
      "cell_type": "code",
      "source": [
        "cv2_imshow(img1) # with shifting"
      ],
      "metadata": {
        "colab": {
          "base_uri": "https://localhost:8080/",
          "height": 417
        },
        "id": "07aurVIShIxh",
        "outputId": "e35d66fe-e394-4f22-e413-e94fb797a5f5"
      },
      "execution_count": null,
      "outputs": [
        {
          "output_type": "display_data",
          "data": {
            "image/png": "[encoded data removed]",
            "text/plain": [
              "<PIL.Image.Image image mode=RGB size=200x400 at 0x7F110360F150>"
            ]
          },
          "metadata": {}
        }
      ]
    },
    {
      "cell_type": "code",
      "source": [
        "!zip black_n_white.zip black_n_white/*"
      ],
      "metadata": {
        "id": "Ik34chtPiqCi",
        "colab": {
          "base_uri": "https://localhost:8080/"
        },
        "outputId": "f9ff8cb1-e476-4656-8a9b-5cb7d18e5151"
      },
      "execution_count": null,
      "outputs": [
        {
          "output_type": "stream",
          "name": "stdout",
          "text": [
            "  adding: black_n_white/gait_AB-01-001.mp4.png (deflated 12%)\n",
            "  adding: black_n_white/gait_AB-01-002.mp4.png (deflated 12%)\n",
            "  adding: black_n_white/gait_AB-01-003.mp4.png (deflated 14%)\n",
            "  adding: black_n_white/gait_AB-01-004.mp4.png (deflated 12%)\n",
            "  adding: black_n_white/gait_CO-01-002.mp4.png (deflated 13%)\n",
            "  adding: black_n_white/gait_CO-01-003.mp4.png (deflated 9%)\n",
            "  adding: black_n_white/gait_CO-01-004.mp4.png (deflated 13%)\n",
            "  adding: black_n_white/gait_CO-01-005.mp4.png (deflated 9%)\n",
            "  adding: black_n_white/gait_CO-01-006.mp4.png (deflated 11%)\n",
            "  adding: black_n_white/gait_CO-01-007.mp4.png (deflated 12%)\n",
            "  adding: black_n_white/gait_CO-01-008.mp4.png (deflated 8%)\n",
            "  adding: black_n_white/gait_CO-01-009.mp4.png (deflated 14%)\n",
            "  adding: black_n_white/gait_EU-01-034.mp4.png (deflated 8%)\n",
            "  adding: black_n_white/gait_EU-01-076.mp4.png (deflated 6%)\n",
            "  adding: black_n_white/gait_EU-01-085.mp4.png (deflated 10%)\n",
            "  adding: black_n_white/gait_EU-01-093.mp4.png (deflated 15%)\n",
            "  adding: black_n_white/gait_HM-01-007.mp4.png (deflated 11%)\n",
            "  adding: black_n_white/gait_HM-01-010.mp4.png (deflated 10%)\n",
            "  adding: black_n_white/gait_HM-01-011.mp4.png (deflated 11%)\n",
            "  adding: black_n_white/gait_HM-01-012.mp4.png (deflated 12%)\n",
            "  adding: black_n_white/gait_HM-01-014.mp4.png (deflated 12%)\n",
            "  adding: black_n_white/gait_HM-01-015.mp4.png (deflated 9%)\n",
            "  adding: black_n_white/gait_HM-01-016.mp4.png (deflated 11%)\n",
            "  adding: black_n_white/gait_HM-01-018.mp4.png (deflated 9%)\n",
            "  adding: black_n_white/gait_HM-01-022.mp4.png (deflated 8%)\n",
            "  adding: black_n_white/gait_HM-01-026.mp4.png (deflated 11%)\n",
            "  adding: black_n_white/gait_HM-01-027.mp4.png (deflated 11%)\n",
            "  adding: black_n_white/gait_HM-01-028.mp4.png (deflated 9%)\n",
            "  adding: black_n_white/gait_HM-01-030.mp4.png (deflated 11%)\n",
            "  adding: black_n_white/gait_HM-01-031.mp4.png (deflated 7%)\n",
            "  adding: black_n_white/gait_HM-01-033.mp4.png (deflated 10%)\n",
            "  adding: black_n_white/gait_HM-01-034.mp4.png (deflated 13%)\n",
            "  adding: black_n_white/gait_HM-01-037.mp4.png (deflated 7%)\n",
            "  adding: black_n_white/gait_HM-01-039.mp4.png (deflated 13%)\n",
            "  adding: black_n_white/gait_HM-01-040.mp4.png (deflated 14%)\n",
            "  adding: black_n_white/gait_HM-01-047.mp4.png (deflated 14%)\n",
            "  adding: black_n_white/gait_HM-01-048.mp4.png (deflated 11%)\n",
            "  adding: black_n_white/gait_HM-01-049.mp4.png (deflated 12%)\n",
            "  adding: black_n_white/gait_HM-01-051.mp4.png (deflated 14%)\n",
            "  adding: black_n_white/gait_HM-01-052.mp4.png (deflated 16%)\n",
            "  adding: black_n_white/gait_HM-01-057.mp4.png (deflated 10%)\n",
            "  adding: black_n_white/gait_HM-01-058.mp4.png (deflated 10%)\n",
            "  adding: black_n_white/gait_HM-01-061.mp4.png (deflated 5%)\n",
            "  adding: black_n_white/gait_HM-01-065.mp4.png (deflated 8%)\n",
            "  adding: black_n_white/gait_MN-01-023.mp4.png (deflated 13%)\n",
            "  adding: black_n_white/gait_MN-01-024.mp4.png (deflated 12%)\n",
            "  adding: black_n_white/gait_MN-01-025.mp4.png (deflated 10%)\n",
            "  adding: black_n_white/gait_MN-01-026.mp4.png (deflated 11%)\n",
            "  adding: black_n_white/gait_MN-01-027.mp4.png (deflated 13%)\n",
            "  adding: black_n_white/gait_MN-01-029.mp4.png (deflated 8%)\n",
            "  adding: black_n_white/gait_MN-01-031.mp4.png (deflated 13%)\n",
            "  adding: black_n_white/gait_MN-01-032.mp4.png (deflated 9%)\n",
            "  adding: black_n_white/gait_MN-01-034.mp4.png (deflated 14%)\n",
            "  adding: black_n_white/gait_MN-01-035.mp4.png (deflated 10%)\n",
            "  adding: black_n_white/gait_UC-01-204.mp4.png (deflated 8%)\n",
            "  adding: black_n_white/gait_UC-01-205.mp4.png (deflated 7%)\n",
            "  adding: black_n_white/gait_UC-01-207.mp4.png (deflated 10%)\n",
            "  adding: black_n_white/gait_UC-01-208.mp4.png (deflated 10%)\n",
            "  adding: black_n_white/gait_UC-01-209.mp4.png (deflated 11%)\n",
            "  adding: black_n_white/gait_UC-01-211.mp4.png (deflated 13%)\n",
            "  adding: black_n_white/gait_UF-01-074.mp4.png (deflated 9%)\n",
            "  adding: black_n_white/gait_UF-01-075.mp4.png (deflated 10%)\n"
          ]
        }
      ]
    },
    {
      "cell_type": "markdown",
      "source": [
        "#Steadying all images"
      ],
      "metadata": {
        "id": "bKE_e4jbDI64"
      }
    },
    {
      "cell_type": "code",
      "source": [
        ""
      ],
      "metadata": {
        "id": "3Jq-w2-xDIPq"
      },
      "execution_count": null,
      "outputs": []
    },
    {
      "cell_type": "code",
      "source": [
        ""
      ],
      "metadata": {
        "id": "oudeiwKQqAmq"
      },
      "execution_count": null,
      "outputs": []
    }
  ],
  "metadata": {
    "colab": {
      "collapsed_sections": [
        "RYE11ex79fR5",
        "L2JmA1xAEntQ",
        "CJKeQ4siEtU9",
        "D2qA_QaMB42K"
      ],
      "name": "MoveNet_SinglePose_Demo.ipynb",
      "provenance": [],
      "include_colab_link": true
    },
    "kernelspec": {
      "display_name": "Python 3",
      "name": "python3"
    },
    "language_info": {
      "name": "python"
    }
  },
  "nbformat": 4,
  "nbformat_minor": 0
}