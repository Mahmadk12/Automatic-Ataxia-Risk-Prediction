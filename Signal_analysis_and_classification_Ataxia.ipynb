{
  "nbformat": 4,
  "nbformat_minor": 0,
  "metadata": {
    "colab": {
      "name": "Signal analysis and classification - Ataxia",
      "provenance": [],
      "collapsed_sections": [
        "c4ISiSRrnbIh"
      ],
      "toc_visible": true,
      "authorship_tag": "ABX9TyMTshdoyBMepPBhw2k0eiXZ",
      "include_colab_link": true
    },
    "kernelspec": {
      "name": "python3",
      "display_name": "Python 3"
    },
    "language_info": {
      "name": "python"
    }
  },
  "cells": [
    {
      "cell_type": "markdown",
      "metadata": {
        "id": "view-in-github",
        "colab_type": "text"
      },
      "source": [
        "<a href=\"https://colab.research.google.com/github/Masum06/Automated-Ataxia-Gait/blob/main/Signal_analysis_and_classification_Ataxia.ipynb\" target=\"_parent\"><img src=\"https://colab.research.google.com/assets/colab-badge.svg\" alt=\"Open In Colab\"/></a>"
      ]
    },
    {
      "cell_type": "markdown",
      "source": [
        "# Libraries"
      ],
      "metadata": {
        "id": "meYB3Vbnj09j"
      }
    },
    {
      "cell_type": "code",
      "source": [
        "!pip install antropy"
      ],
      "metadata": {
        "colab": {
          "base_uri": "https://localhost:8080/"
        },
        "id": "-f_asCGHATDA",
        "outputId": "84e80523-efc9-40a3-b280-a5780e83ffd1"
      },
      "execution_count": null,
      "outputs": [
        {
          "output_type": "stream",
          "name": "stdout",
          "text": [
            "Requirement already satisfied: antropy in /usr/local/lib/python3.7/dist-packages (0.1.4)\n",
            "Requirement already satisfied: stochastic in /usr/local/lib/python3.7/dist-packages (from antropy) (0.6.0)\n",
            "Requirement already satisfied: scipy<2.0,>=1.3 in /usr/local/lib/python3.7/dist-packages (from stochastic->antropy) (1.4.1)\n",
            "Requirement already satisfied: numpy<2.0,>=1.17 in /usr/local/lib/python3.7/dist-packages (from stochastic->antropy) (1.19.5)\n"
          ]
        }
      ]
    },
    {
      "cell_type": "code",
      "source": [
        "import numpy as np\n",
        "import copy\n",
        "from scipy.stats.stats import pearsonr\n",
        "import antropy as ent\n",
        "import pandas as pd\n",
        "import json\n",
        "import pickle\n",
        "from sklearn import tree\n",
        "from sklearn.ensemble import RandomForestClassifier\n",
        "from sklearn.feature_selection import RFE, RFECV\n",
        "from sklearn.model_selection import StratifiedKFold \n",
        "import matplotlib.pyplot as plt\n",
        "from sklearn.model_selection import KFold\n",
        "from sklearn.model_selection import cross_val_score, cross_validate"
      ],
      "metadata": {
        "id": "oKfDZJ-d4Hgs"
      },
      "execution_count": null,
      "outputs": []
    },
    {
      "cell_type": "markdown",
      "source": [
        "# Feature Calculation"
      ],
      "metadata": {
        "id": "5EExypRAj39N"
      }
    },
    {
      "cell_type": "code",
      "source": [
        "KEYPOINT_DICT = {\n",
        "    'nose': 0,\n",
        "    'left_eye': 1,\n",
        "    'right_eye': 2,\n",
        "    'left_ear': 3,\n",
        "    'right_ear': 4,\n",
        "    'left_shoulder': 5,\n",
        "    'right_shoulder': 6,\n",
        "    'left_elbow': 7,\n",
        "    'right_elbow': 8,\n",
        "    'left_wrist': 9,\n",
        "    'right_wrist': 10,\n",
        "    'left_hip': 11,\n",
        "    'right_hip': 12,\n",
        "    'left_knee': 13,\n",
        "    'right_knee': 14,\n",
        "    'left_ankle': 15,\n",
        "    'right_ankle': 16\n",
        "}"
      ],
      "metadata": {
        "id": "H7G3IhYu0_7R"
      },
      "execution_count": null,
      "outputs": []
    },
    {
      "cell_type": "code",
      "execution_count": null,
      "metadata": {
        "id": "a_LR4HDG0gYz"
      },
      "outputs": [],
      "source": [
        "infile = open('keypoints_dict_c2.pkl','rb')\n",
        "keypoints_dict = pickle.load(infile)\n",
        "infile.close()"
      ]
    },
    {
      "cell_type": "code",
      "source": [
        "df = pd.read_csv('labeling_c2.csv')\n",
        "df.head()"
      ],
      "metadata": {
        "id": "EDBJLewzJp8s"
      },
      "execution_count": null,
      "outputs": []
    },
    {
      "cell_type": "code",
      "source": [
        "def getJsonData(JsonFile):\n",
        "    with open(JsonFile, encoding=\"utf8\") as f:\n",
        "        data = json.load(f)\n",
        "    return data\n",
        "\n",
        "patient_height_dict = getJsonData('patient_height_dict_c2.json')"
      ],
      "metadata": {
        "id": "fsQWVcb7W-za"
      },
      "execution_count": null,
      "outputs": []
    },
    {
      "cell_type": "markdown",
      "source": [
        "## Computation"
      ],
      "metadata": {
        "id": "_zyGHtvg_Yaw"
      }
    },
    {
      "cell_type": "code",
      "source": [
        "reduction_score = {}\n",
        "stance_dict = {}\n",
        "for key in patient_height_dict:\n",
        "    frame_list = patient_height_dict[key]\n",
        "    last_frame = frame_list[0]\n",
        "    sum_reduction = 0\n",
        "    stance_score = 0\n",
        "    for h in frame_list:\n",
        "        reduction = last_frame - h\n",
        "        stance_score += reduction<=0\n",
        "        last_frame = h\n",
        "        sum_reduction += reduction\n",
        "    reduction_score[key] = sum_reduction/frame_list[0]\n",
        "    stance_dict[key] = stance_score/len(frame_list)"
      ],
      "metadata": {
        "id": "3LZrElrPXgVN"
      },
      "execution_count": null,
      "outputs": []
    },
    {
      "cell_type": "code",
      "source": [
        "def savitzky_golay(y, window_size, order, deriv=0, rate=1):\n",
        "  r\"\"\"Smooth (and optionally differentiate) data with a Savitzky-Golay filter.\n",
        "  The Savitzky-Golay filter removes high frequency noise from data.\n",
        "  It has the advantage of preserving the original shape and\n",
        "  features of the signal better than other types of filtering\n",
        "  approaches, such as moving averages techniques.\n",
        "  https://scipy.github.io/old-wiki/pages/Cookbook/SavitzkyGolay\n",
        "  Parameters\n",
        "  ----------\n",
        "  y : array_like, shape (N,)\n",
        "      the values of the time history of the signal.\n",
        "  window_size : int\n",
        "      the length of the window. Must be an odd integer number.\n",
        "  order : int\n",
        "      the order of the polynomial used in the filtering.\n",
        "      Must be less then `window_size` - 1.\n",
        "  deriv: int\n",
        "      the order of the derivative to compute (default = 0 means only smoothing)\n",
        "  Returns\n",
        "  -------\n",
        "  ys : ndarray, shape (N)\n",
        "      the smoothed signal (or it's n-th derivative).\n",
        "  Notes\n",
        "  -----\n",
        "  The Savitzky-Golay is a type of low-pass filter, particularly\n",
        "  suited for smoothing noisy data. The main idea behind this\n",
        "  approach is to make for each point a least-square fit with a\n",
        "  polynomial of high order over a odd-sized window centered at\n",
        "  the point.\n",
        "  Examples\n",
        "  --------\n",
        "  t = np.linspace(-4, 4, 500)\n",
        "  y = np.exp( -t**2 ) + np.random.normal(0, 0.05, t.shape)\n",
        "  ysg = savitzky_golay(y, window_size=31, order=4)\n",
        "  import matplotlib.pyplot as plt\n",
        "  plt.plot(t, y, label='Noisy signal')\n",
        "  plt.plot(t, np.exp(-t**2), 'k', lw=1.5, label='Original signal')\n",
        "  plt.plot(t, ysg, 'r', label='Filtered signal')\n",
        "  plt.legend()\n",
        "  plt.show()\n",
        "  References\n",
        "  ----------\n",
        "  .. [1] A. Savitzky, M. J. E. Golay, Smoothing and Differentiation of\n",
        "    Data by Simplified Least Squares Procedures. Analytical\n",
        "    Chemistry, 1964, 36 (8), pp 1627-1639.\n",
        "  .. [2] Numerical Recipes 3rd Edition: The Art of Scientific Computing\n",
        "    W.H. Press, S.A. Teukolsky, W.T. Vetterling, B.P. Flannery\n",
        "    Cambridge University Press ISBN-13: 9780521880688\n",
        "  \"\"\"\n",
        "  import numpy as np\n",
        "  from math import factorial\n",
        "\n",
        "  try:\n",
        "      window_size = np.abs(np.int(window_size))\n",
        "      order = np.abs(np.int(order))\n",
        "  except (ValueError, msg):\n",
        "      raise ValueError(\"window_size and order have to be of type int\")\n",
        "  if window_size % 2 != 1 or window_size < 1:\n",
        "      raise TypeError(\"window_size size must be a positive odd number\")\n",
        "  if window_size < order + 2:\n",
        "      raise TypeError(\"window_size is too small for the polynomials order\")\n",
        "      \n",
        "  order_range = range(order+1)\n",
        "  half_window = (window_size -1) // 2\n",
        "  # precompute coefficients\n",
        "  b = np.mat([[k**i for i in order_range] for k in range(-half_window, half_window+1)])\n",
        "  m = np.linalg.pinv(b).A[deriv] * rate**deriv * factorial(deriv)\n",
        "  # pad the signal at the extremes with\n",
        "  # values taken from the signal itself\n",
        "  firstvals = y[0] - np.abs( y[1:half_window+1][::-1] - y[0] )\n",
        "  lastvals = y[-1] + np.abs(y[-half_window-1:-1][::-1] - y[-1])\n",
        "  y = np.concatenate((firstvals, y, lastvals))\n",
        "  return np.convolve( m[::-1], y, mode='valid')"
      ],
      "metadata": {
        "id": "7u17bULI69eO"
      },
      "execution_count": null,
      "outputs": []
    },
    {
      "cell_type": "code",
      "source": [
        "from numpy import dot\n",
        "from numpy.linalg import norm\n",
        "\n",
        "all_label = []\n",
        "height_reduction = []\n",
        "stance_ratio = []\n",
        "all_vid_names = []\n",
        "\n",
        "feature_dict_template = {\n",
        "  'feet_dist' : [],\n",
        "  'feet_angle' : [],\n",
        "  'right_x' : [],\n",
        "  'right_y' : [],\n",
        "  'left_x' : [],\n",
        "  'left_y' : [],\n",
        "  'left_knee_bent': [],\n",
        "  'right_knee_bent': [],\n",
        "  'imbalance' : [],\n",
        "  'tilt': [],\n",
        "  'nose_x': [],\n",
        "  'nose_y': []\n",
        "}\n",
        "\n",
        "feature_list = ['entropy', 'mean', 'std', 'max', 'min', 'range'] #, 'fourier'\n",
        "\n",
        "feature_dict = {}\n",
        "for feature in feature_list:\n",
        "  feature_dict[feature] = copy.deepcopy(feature_dict_template)\n",
        "\n",
        "\n",
        "for (id, score) in zip(df['ID'], df['Score']):\n",
        "\n",
        "  if id[-4:].lower() != '.mp4':\n",
        "    print(id, \"extension added\")\n",
        "    vid_name = id+'.mp4'\n",
        "  else:\n",
        "    vid_name = id\n",
        "\n",
        "  if vid_name not in keypoints_dict:\n",
        "    print(vid_name, \"passing\")\n",
        "    continue\n",
        "\n",
        "  all_label.append(score) \n",
        "  all_vid_names.append(vid_name)\n",
        "  # all_label.append((score>0)*1)\n",
        "\n",
        "  height_reduction.append(reduction_score[vid_name])\n",
        "  stance_ratio.append(stance_dict[vid_name])\n",
        "\n",
        "  accumulation_dict = copy.deepcopy(feature_dict_template)\n",
        "\n",
        "  for pose in keypoints_dict[vid_name]:\n",
        "    if len(pose[0])==17:\n",
        "      l_ankle = pose[0][KEYPOINT_DICT['left_ankle']]\n",
        "      r_ankle = pose[0][KEYPOINT_DICT['right_ankle']]\n",
        "\n",
        "      l1 = pose[0][KEYPOINT_DICT['left_hip']] - pose[0][KEYPOINT_DICT['left_knee']]\n",
        "      l2 = pose[0][KEYPOINT_DICT['left_ankle']] - pose[0][KEYPOINT_DICT['left_knee']]\n",
        "      r1 = pose[0][KEYPOINT_DICT['right_hip']] - pose[0][KEYPOINT_DICT['right_knee']]\n",
        "      r2 = pose[0][KEYPOINT_DICT['right_ankle']] - pose[0][KEYPOINT_DICT['right_knee']]\n",
        "      l_knee = dot(l1,l2)/(norm(l1)*norm(l2))\n",
        "      r_knee = dot(l1,l2)/(norm(r1)*norm(r2))\n",
        "\n",
        "      shoulder_center = pose[0][KEYPOINT_DICT['left_shoulder']]/2 + pose[0][KEYPOINT_DICT['right_shoulder']]/2\n",
        "      hip_center = pose[0][KEYPOINT_DICT['left_hip']]/2 + pose[0][KEYPOINT_DICT['right_hip']]/2\n",
        "      imbalance = shoulder_center[0] - hip_center[0]\n",
        "      tilt = (pose[0][KEYPOINT_DICT['right_shoulder']] - pose[0][KEYPOINT_DICT['left_shoulder']])\n",
        "      nose = pose[0][KEYPOINT_DICT['nose']]\n",
        "\n",
        "      accumulation_dict['right_x'].append(r_ankle[0])\n",
        "      accumulation_dict['right_y'].append(r_ankle[1])\n",
        "      accumulation_dict['left_x'].append(l_ankle[0])\n",
        "      accumulation_dict['left_y'].append(l_ankle[1])\n",
        "      \n",
        "      \n",
        "      dist = np.linalg.norm(l_ankle-r_ankle)\n",
        "      angle = np.arctan((l_ankle-r_ankle)[1]/(l_ankle-r_ankle)[0])\n",
        "      \n",
        "      accumulation_dict['feet_dist'].append(dist)\n",
        "      accumulation_dict['feet_angle'].append(angle)\n",
        "      accumulation_dict['left_knee_bent'].append(l_knee)\n",
        "      accumulation_dict['right_knee_bent'].append(r_knee)\n",
        "      accumulation_dict['imbalance'].append(imbalance)\n",
        "      # accumulation_dict['tilt_x'].append(tilt[0])\n",
        "      accumulation_dict['tilt'].append(np.arctan(tilt[1]/tilt[0]))\n",
        "      accumulation_dict['nose_x'].append(nose[0])\n",
        "      accumulation_dict['nose_y'].append(nose[1])\n",
        "\n",
        "  for key in accumulation_dict:\n",
        "    accumulation_dict[key] = savitzky_golay(accumulation_dict[key], 21, 3)\n",
        "\n",
        "  ## Extract features from each sequence and make a single number feature\n",
        "  for key in feature_dict[list(feature_dict.keys())[0]]:\n",
        "    feature_dict['entropy'][key].append(np.round(ent.spectral_entropy(accumulation_dict[key], sf=1, method='fft'), 3))\n",
        "    feature_dict['mean'][key].append(accumulation_dict[key].mean())\n",
        "    feature_dict['std'][key].append(accumulation_dict[key].std())\n",
        "    feature_dict['max'][key].append(accumulation_dict[key].max())\n",
        "    feature_dict['min'][key].append(accumulation_dict[key].min())\n",
        "    feature_dict['range'][key].append(accumulation_dict[key].max() - accumulation_dict[key].min()) "
      ],
      "metadata": {
        "id": "YkCZPQzt3Qs2"
      },
      "execution_count": null,
      "outputs": []
    },
    {
      "cell_type": "code",
      "source": [
        "data = pd.DataFrame()\n",
        "\n",
        "all_label = np.array(all_label)\n",
        "height_reduction = np.array(height_reduction)\n",
        "stance_ratio = np.array(stance_ratio)\n",
        "\n",
        "for feature_type in feature_dict:\n",
        "  for feature_name in feature_dict[feature_type]:\n",
        "    col_name = feature_type+\"_\"+feature_name\n",
        "    col = np.array(feature_dict[feature_type][feature_name])\n",
        "    col[np.isnan(col)] = 0\n",
        "    data[col_name] = col #np.round((col - col.mean())/col.std())\n",
        "\n",
        "    # corr = pearsonr(all_label, col)\n",
        "    # if corr[1] <= 0.05:\n",
        "    #   print(col_name, corr, u'\\u2713')\n",
        "    #   # data[col_name] = np.round((col - col.mean())/col.std())\n",
        "    # else:\n",
        "    #   print(col_name, corr)\n",
        "\n",
        "data['stance_ratio'] = stance_ratio \n",
        "data['height_reduction'] = height_reduction \n",
        "# data['label'] = all_label\n",
        "data['label'] = all_label #1*(np.array(all_label)>0)\n",
        "# data['ID'] = all_vid_names"
      ],
      "metadata": {
        "id": "QNBHN4D-isJu"
      },
      "execution_count": null,
      "outputs": []
    },
    {
      "cell_type": "code",
      "source": [
        "# data.to_csv('ataxia_data_c2.csv', index=False)"
      ],
      "metadata": {
        "id": "d6msoOGojLxI"
      },
      "execution_count": null,
      "outputs": []
    },
    {
      "cell_type": "markdown",
      "source": [
        "# Data Processing"
      ],
      "metadata": {
        "id": "U1bvdBFClhsr"
      }
    },
    {
      "cell_type": "code",
      "source": [
        "data = pd.read_csv('ataxia_data_c2.csv')"
      ],
      "metadata": {
        "id": "-bZRYdJJ_Gw2"
      },
      "execution_count": null,
      "outputs": []
    },
    {
      "cell_type": "code",
      "source": [
        "data"
      ],
      "metadata": {
        "id": "4w-LhGOPE3gq"
      },
      "execution_count": null,
      "outputs": []
    },
    {
      "cell_type": "code",
      "source": [
        "all_vid_names = data['ID']\n",
        "data = data.drop(['ID'], axis=1)"
      ],
      "metadata": {
        "id": "UiMbFd7bXbbp"
      },
      "execution_count": null,
      "outputs": []
    },
    {
      "cell_type": "code",
      "source": [
        "for key in list(data.keys())[:-2]: \n",
        "  data[key] = np.round((data[key] - data[key].mean())/data[key].std())\n",
        "\n",
        "## Height reduction is exepmted from rounding\n",
        "data['height_reduction'] = (data['height_reduction'] - data['height_reduction'].mean())/data['height_reduction'].std()\n",
        "\n",
        "## Binarize Label\n",
        "# data['label'] = 1*(data['label']>0)\n",
        "\n",
        "## 4 Classes\n",
        "labels = np.array(data['label'])\n",
        "labels[labels>2] = 3\n",
        "data['label'] = labels"
      ],
      "metadata": {
        "id": "cwnEcsTijjsE"
      },
      "execution_count": null,
      "outputs": []
    },
    {
      "cell_type": "code",
      "source": [
        "data"
      ],
      "metadata": {
        "id": "oU1qzsffKXuk"
      },
      "execution_count": null,
      "outputs": []
    },
    {
      "cell_type": "markdown",
      "source": [
        "# Training Classifier"
      ],
      "metadata": {
        "id": "H0wDSe_J_T6w"
      }
    },
    {
      "cell_type": "markdown",
      "source": [
        "### Classifier with all features"
      ],
      "metadata": {
        "id": "3qY0bRs1numU"
      }
    },
    {
      "cell_type": "code",
      "source": [
        "X = data.drop(['label'] , axis = 1)\n",
        "Y = data['label']\n",
        "\n",
        "# from sklearn.model_selection import train_test_split\n",
        "# xtrain , xtest , ytrain , ytest = train_test_split(X,Y,test_size = 0.3)"
      ],
      "metadata": {
        "id": "3LQdDDe_ny6U"
      },
      "execution_count": null,
      "outputs": []
    },
    {
      "cell_type": "code",
      "source": [
        "xtrain, xtest = X[16:], X[:16]\n",
        "ytrain, ytest = Y[16:], Y[:16]"
      ],
      "metadata": {
        "id": "YOOq5J52rj9m"
      },
      "execution_count": null,
      "outputs": []
    },
    {
      "cell_type": "code",
      "source": [
        "model = tree.DecisionTreeClassifier()\n",
        "model.fit(xtrain , ytrain)\n",
        "model.score(xtest,ytest)"
      ],
      "metadata": {
        "colab": {
          "base_uri": "https://localhost:8080/"
        },
        "id": "fH-c_OTFo2xZ",
        "outputId": "7e0db926-01e6-4323-8f0f-e2058fc08830"
      },
      "execution_count": null,
      "outputs": [
        {
          "output_type": "execute_result",
          "data": {
            "text/plain": [
              "0.3125"
            ]
          },
          "metadata": {},
          "execution_count": 9
        }
      ]
    },
    {
      "cell_type": "code",
      "source": [
        "rf_scores = []\n",
        "for i in range(15):\n",
        "  model = RandomForestClassifier(n_estimators=100)\n",
        "  model.fit(xtrain,ytrain)\n",
        "  rf_scores.append(model.score(xtest , ytest))\n",
        "\n",
        "np.mean(rf_scores)"
      ],
      "metadata": {
        "id": "jSDFeUNzoqDZ",
        "colab": {
          "base_uri": "https://localhost:8080/"
        },
        "outputId": "55e8033e-2fd1-4c4b-fcf8-808497a30a44"
      },
      "execution_count": null,
      "outputs": [
        {
          "output_type": "execute_result",
          "data": {
            "text/plain": [
              "0.6041666666666666"
            ]
          },
          "metadata": {},
          "execution_count": 10
        }
      ]
    },
    {
      "cell_type": "markdown",
      "source": [
        "10 fold with all features"
      ],
      "metadata": {
        "id": "C077wYeMgGta"
      }
    },
    {
      "cell_type": "code",
      "source": [
        "from sklearn.model_selection import KFold\n",
        "from sklearn.model_selection import cross_val_score, cross_validate\n",
        "\n",
        "aggregate_f1 = []\n",
        "aggregate_acc = []\n",
        "for i in range(20):\n",
        "  model = RandomForestClassifier(n_estimators=100)\n",
        "  cv = KFold(n_splits=10, random_state=1, shuffle=True)\n",
        "  scores = cross_validate(model, X, Y, scoring=['f1_macro', 'accuracy'], cv=cv, n_jobs=-1)\n",
        "  # aggregate_score.append(scores.mean())\n",
        "  aggregate_f1.append(scores['test_f1_macro'].mean())\n",
        "  aggregate_acc.append(scores['test_accuracy'].mean())\n",
        "\n",
        "np.mean(aggregate_f1), np.mean(aggregate_acc)"
      ],
      "metadata": {
        "colab": {
          "base_uri": "https://localhost:8080/"
        },
        "id": "fkXZsrFOgJKq",
        "outputId": "8c4665de-f29f-4ad6-d2bc-ab55b9c3b5a5"
      },
      "execution_count": null,
      "outputs": [
        {
          "output_type": "execute_result",
          "data": {
            "text/plain": [
              "(0.44662665438824745, 0.6042708333333333)"
            ]
          },
          "metadata": {},
          "execution_count": 11
        }
      ]
    },
    {
      "cell_type": "markdown",
      "source": [
        "## Random Forest feature importance"
      ],
      "metadata": {
        "id": "ysBHDjqIgO4C"
      }
    },
    {
      "cell_type": "code",
      "source": [
        "# First train a model with all data\n",
        "model = RandomForestClassifier(n_estimators=100)\n",
        "model.fit(X,Y)"
      ],
      "metadata": {
        "colab": {
          "base_uri": "https://localhost:8080/"
        },
        "id": "5w-0eKDJiYtX",
        "outputId": "9b7dd02c-fd6c-4959-8ae4-1dc4181c292c"
      },
      "execution_count": null,
      "outputs": [
        {
          "output_type": "execute_result",
          "data": {
            "text/plain": [
              "RandomForestRegressor(max_depth=10, random_state=0)"
            ]
          },
          "metadata": {},
          "execution_count": 70
        }
      ]
    },
    {
      "cell_type": "code",
      "source": [
        "fi = model.feature_importances_\n",
        "cols = np.array(data.columns[:-1])"
      ],
      "metadata": {
        "id": "d742_OWiMnQP"
      },
      "execution_count": null,
      "outputs": []
    },
    {
      "cell_type": "code",
      "source": [
        "fiidx = fi.argsort()\n",
        "sorted_fi = fi[fiidx[::-1]]\n",
        "sorted_cols = cols[fiidx[::-1]]"
      ],
      "metadata": {
        "id": "XSQuHtDZjmoq"
      },
      "execution_count": null,
      "outputs": []
    },
    {
      "cell_type": "code",
      "source": [
        "sorted_cols"
      ],
      "metadata": {
        "colab": {
          "base_uri": "https://localhost:8080/"
        },
        "id": "-hgA8GR7iiZq",
        "outputId": "37777501-9d3f-4e0b-c09b-fb23a5186a42"
      },
      "execution_count": null,
      "outputs": [
        {
          "output_type": "execute_result",
          "data": {
            "text/plain": [
              "array(['mean_feet_dist', 'height_reduction', 'max_feet_dist',\n",
              "       'max_right_x', 'std_imbalance', 'min_left_x', 'range_imbalance',\n",
              "       'range_nose_x', 'mean_nose_y', 'min_nose_x', 'entropy_nose_y',\n",
              "       'std_tilt', 'std_left_x', 'range_feet_dist', 'range_left_x',\n",
              "       'std_feet_dist', 'mean_tilt', 'mean_right_knee_bent',\n",
              "       'entropy_tilt', 'entropy_right_knee_bent', 'entropy_feet_dist',\n",
              "       'mean_feet_angle', 'mean_left_knee_bent', 'min_imbalance',\n",
              "       'range_right_x', 'mean_left_y', 'std_nose_x', 'entropy_imbalance',\n",
              "       'std_nose_y', 'min_right_knee_bent', 'min_feet_dist', 'min_nose_y',\n",
              "       'mean_nose_x', 'range_feet_angle', 'stance_ratio',\n",
              "       'mean_imbalance', 'min_tilt', 'std_feet_angle', 'entropy_right_y',\n",
              "       'mean_right_x', 'min_feet_angle', 'min_left_y', 'max_left_y',\n",
              "       'entropy_right_x', 'mean_right_y', 'entropy_nose_x', 'max_nose_y',\n",
              "       'range_tilt', 'range_right_y', 'entropy_left_y', 'range_left_y',\n",
              "       'std_right_knee_bent', 'entropy_feet_angle', 'entropy_left_x',\n",
              "       'max_left_x', 'max_feet_angle', 'entropy_left_knee_bent',\n",
              "       'max_imbalance', 'max_nose_x', 'max_right_y',\n",
              "       'max_right_knee_bent', 'min_right_y', 'std_right_x',\n",
              "       'range_right_knee_bent', 'mean_left_x', 'range_nose_y',\n",
              "       'std_right_y', 'min_right_x', 'std_left_y', 'max_tilt',\n",
              "       'min_left_knee_bent', 'std_left_knee_bent', 'max_left_knee_bent',\n",
              "       'range_left_knee_bent'], dtype=object)"
            ]
          },
          "metadata": {},
          "execution_count": 98
        }
      ]
    },
    {
      "cell_type": "code",
      "source": [
        "rf_selected_cols = sorted_cols[:20]\n",
        "rf_selected_cols"
      ],
      "metadata": {
        "colab": {
          "base_uri": "https://localhost:8080/"
        },
        "id": "bd2IuFq0Uf1p",
        "outputId": "05c381d7-7cda-4772-ce8d-3e201baee94d"
      },
      "execution_count": null,
      "outputs": [
        {
          "output_type": "execute_result",
          "data": {
            "text/plain": [
              "array(['mean_feet_dist', 'height_reduction', 'max_feet_dist',\n",
              "       'max_right_x', 'std_imbalance', 'min_left_x', 'range_imbalance',\n",
              "       'range_nose_x', 'mean_nose_y', 'min_nose_x', 'entropy_nose_y',\n",
              "       'std_tilt', 'std_left_x', 'range_feet_dist', 'range_left_x',\n",
              "       'std_feet_dist', 'mean_tilt', 'mean_right_knee_bent',\n",
              "       'entropy_tilt', 'entropy_right_knee_bent'], dtype=object)"
            ]
          },
          "metadata": {},
          "execution_count": 75
        }
      ]
    },
    {
      "cell_type": "markdown",
      "source": [
        "10 fold cross validation with rf selected features"
      ],
      "metadata": {
        "id": "bjXU8YMhisQL"
      }
    },
    {
      "cell_type": "code",
      "source": [
        "# Classification feature selection\n",
        "\n",
        "from sklearn.model_selection import KFold\n",
        "from sklearn.model_selection import cross_val_score\n",
        "\n",
        "inc_scores = []\n",
        "for i in range(1,len(sorted_cols)):\n",
        "  model = RandomForestClassifier(n_estimators=100)\n",
        "  cv = KFold(n_splits=10, random_state=1, shuffle=True)\n",
        "  scores = cross_val_score(model, X[sorted_cols[:i]], Y, scoring='f1_macro', cv=cv, n_jobs=-1)\n",
        "  print(i, scores.mean())\n",
        "  inc_scores.append(scores.mean())"
      ],
      "metadata": {
        "id": "SFrbTRNsirda"
      },
      "execution_count": null,
      "outputs": []
    },
    {
      "cell_type": "code",
      "source": [
        "## Regression feature selection\n",
        "\n",
        "from sklearn.model_selection import KFold\n",
        "from sklearn.model_selection import cross_val_score\n",
        "\n",
        "inc_scores = []\n",
        "for i in range(1,len(sorted_cols)):\n",
        "  model = RandomForestRegressor(n_estimators=100)\n",
        "  cv = KFold(n_splits=10, random_state=1, shuffle=True)\n",
        "  scores = cross_val_score(model, X[sorted_cols[:i]], Y, scoring='r2', cv=cv, n_jobs=-1)\n",
        "  print(i, scores.mean())\n",
        "  inc_scores.append(scores.mean())"
      ],
      "metadata": {
        "id": "Oyij3TV0r80r"
      },
      "execution_count": null,
      "outputs": []
    },
    {
      "cell_type": "code",
      "source": [
        "# importing the required module\n",
        "import matplotlib.pyplot as plt\n",
        "\n",
        "plt.plot(inc_scores)\n",
        "plt.xlabel('Features')\n",
        "# naming the y axis\n",
        "plt.ylabel('F1')\n",
        "# giving a title to my graph\n",
        "plt.title('Features vs Accuracy')\n",
        "# function to show the plot\n",
        "plt.show()"
      ],
      "metadata": {
        "colab": {
          "base_uri": "https://localhost:8080/",
          "height": 295
        },
        "id": "zhgouY5tkX5B",
        "outputId": "f8c799f1-a6f4-4787-ff0c-2234e87ff262"
      },
      "execution_count": null,
      "outputs": [
        {
          "output_type": "display_data",
          "data": {
            "image/png": "[encoded data removed]",
            "text/plain": [
              "<Figure size 432x288 with 1 Axes>"
            ]
          },
          "metadata": {
            "needs_background": "light"
          }
        }
      ]
    },
    {
      "cell_type": "markdown",
      "source": [
        "Cross validation with top features"
      ],
      "metadata": {
        "id": "oDth0CL6kzF4"
      }
    },
    {
      "cell_type": "code",
      "source": [
        "aggregate_f1 = []\n",
        "aggregate_acc = []\n",
        "for i in range(20):\n",
        "  model = RandomForestClassifier(n_estimators=100)\n",
        "  cv = KFold(n_splits=10, random_state=1, shuffle=True)\n",
        "  scores = cross_validate(model, X[sorted_cols[:21]], Y, scoring=['f1_macro', 'accuracy'], cv=cv, n_jobs=-1)\n",
        "  # aggregate_score.append(scores.mean())\n",
        "  aggregate_f1.append(scores['test_f1_macro'].mean())\n",
        "  aggregate_acc.append(scores['test_accuracy'].mean())\n",
        "\n",
        "np.mean(aggregate_f1), np.mean(aggregate_acc)"
      ],
      "metadata": {
        "colab": {
          "base_uri": "https://localhost:8080/"
        },
        "id": "ZvBV3OXFkyQD",
        "outputId": "acb62e90-8ee4-4462-db02-492c785c8574"
      },
      "execution_count": null,
      "outputs": [
        {
          "output_type": "execute_result",
          "data": {
            "text/plain": [
              "(0.48102190067486117, 0.6298125000000001)"
            ]
          },
          "metadata": {},
          "execution_count": 139
        }
      ]
    },
    {
      "cell_type": "markdown",
      "source": [
        "## Recirsive Feature Elimination with Cross Validation (RFECV)"
      ],
      "metadata": {
        "id": "6uVwVRfBq0fC"
      }
    },
    {
      "cell_type": "markdown",
      "source": [
        "https://github.com/WSU-SEAL/CRA-usefulness-model/blob/main/Usefulness%20Pipeline.ipynb"
      ],
      "metadata": {
        "id": "u45GnILpon1W"
      }
    },
    {
      "cell_type": "code",
      "source": [
        "X = data.drop(['label'] , axis = 1)\n",
        "Y = data['label']"
      ],
      "metadata": {
        "id": "5bHo6zpGqzzl"
      },
      "execution_count": null,
      "outputs": []
    },
    {
      "cell_type": "code",
      "source": [
        "rf = RandomForestClassifier(n_estimators=100 )"
      ],
      "metadata": {
        "id": "5GEnzDLyo6lp"
      },
      "execution_count": null,
      "outputs": []
    },
    {
      "cell_type": "code",
      "source": [
        "rf = RandomForestRegressor()"
      ],
      "metadata": {
        "id": "5qLHeUmvmVNu"
      },
      "execution_count": null,
      "outputs": []
    },
    {
      "cell_type": "code",
      "source": [
        "rfecv = RFECV(estimator=rf, step=1, cv=StratifiedKFold(10), scoring='r2') \n",
        "# Regression: r2, Classification: f1_macro\n",
        "rfecv.fit(X, Y)"
      ],
      "metadata": {
        "colab": {
          "base_uri": "https://localhost:8080/"
        },
        "id": "WVSL7yl5olwF",
        "outputId": "4857d56e-03b3-4d30-9a80-8a00f24e89af"
      },
      "execution_count": null,
      "outputs": [
        {
          "output_type": "execute_result",
          "data": {
            "text/plain": [
              "RFECV(cv=StratifiedKFold(n_splits=10, random_state=None, shuffle=False),\n",
              "      estimator=RandomForestRegressor(), scoring='r2')"
            ]
          },
          "metadata": {},
          "execution_count": 81
        }
      ]
    },
    {
      "cell_type": "code",
      "source": [
        "plt.figure(figsize=(10, 6))\n",
        "plt.title('Recursive Feature Elimination with Cross-Validation', fontsize=18, fontweight='bold', pad=20)\n",
        "plt.xlabel('Number of features selected', fontsize=14, labelpad=20)\n",
        "plt.ylabel('% Correct Classification', fontsize=14, labelpad=20)\n",
        "plt.plot(range(1, len(rfecv.grid_scores_) + 1), rfecv.grid_scores_, color='#303F9F', linewidth=3)\n",
        "\n",
        "plt.show()"
      ],
      "metadata": {
        "colab": {
          "base_uri": "https://localhost:8080/",
          "height": 479
        },
        "id": "9l8khA5HpBRc",
        "outputId": "e04cddfe-3d7b-4526-9654-97bdbaf1dd76"
      },
      "execution_count": null,
      "outputs": [
        {
          "output_type": "stream",
          "name": "stderr",
          "text": [
            "The `grid_scores_` attribute is deprecated in version 1.0 in favor of `cv_results_` and will be removed in version 1.2.\n"
          ]
        },
        {
          "output_type": "display_data",
          "data": {
            "image/png": "[encoded data removed]",
            "text/plain": [
              "<Figure size 720x432 with 1 Axes>"
            ]
          },
          "metadata": {
            "needs_background": "light"
          }
        }
      ]
    },
    {
      "cell_type": "code",
      "source": [
        "## Number of features selected\n",
        "rfecv.n_features_"
      ],
      "metadata": {
        "colab": {
          "base_uri": "https://localhost:8080/"
        },
        "id": "k3tvk4MapGNm",
        "outputId": "55a369e7-a995-4079-9280-bd21e1127357"
      },
      "execution_count": null,
      "outputs": [
        {
          "output_type": "execute_result",
          "data": {
            "text/plain": [
              "73"
            ]
          },
          "metadata": {},
          "execution_count": 83
        }
      ]
    },
    {
      "cell_type": "code",
      "source": [
        "rfacv_selected_cols = []\n",
        "for i in range(len(cols)):\n",
        "    # print(cols[i],\"\\t\",rfecv.support_[i],\"\\t\",rfecv.ranking_[i])\n",
        "    if rfecv.support_[i]==True:\n",
        "        rfacv_selected_cols += [cols[i]]\n",
        "rfacv_selected_cols"
      ],
      "metadata": {
        "id": "bYsYIrRVpduA"
      },
      "execution_count": null,
      "outputs": []
    },
    {
      "cell_type": "code",
      "source": [
        "len(rfacv_selected_cols)"
      ],
      "metadata": {
        "colab": {
          "base_uri": "https://localhost:8080/"
        },
        "id": "KVUyZ8ZfHPUZ",
        "outputId": "ed077e9f-cdd7-4a2f-bd74-359c53513bae"
      },
      "execution_count": null,
      "outputs": [
        {
          "output_type": "execute_result",
          "data": {
            "text/plain": [
              "73"
            ]
          },
          "metadata": {},
          "execution_count": 85
        }
      ]
    },
    {
      "cell_type": "code",
      "source": [
        "X = data[rfacv_selected_cols]\n",
        "xtrain, xtest = X[16:], X[:16]"
      ],
      "metadata": {
        "id": "1ELTrBPiRixB"
      },
      "execution_count": null,
      "outputs": []
    },
    {
      "cell_type": "code",
      "source": [
        "rfacv_selected_cols = ['mean_feet_dist', 'std_left_x', 'std_imbalance', 'std_nose_y', 'max_feet_dist', 'max_right_x', 'min_left_x', 'min_imbalance', 'range_left_x', 'range_imbalance', 'range_nose_x', 'height_reduction']"
      ],
      "metadata": {
        "id": "ZzlKrmH6Yw5Q"
      },
      "execution_count": null,
      "outputs": []
    },
    {
      "cell_type": "markdown",
      "source": [
        "**Binary selected columns:** \n",
        "['mean_feet_dist',\n",
        " 'std_left_x',\n",
        " 'std_imbalance',\n",
        " 'std_nose_y',\n",
        " 'max_feet_dist',\n",
        " 'max_right_x',\n",
        " 'min_left_x',\n",
        " 'min_imbalance',\n",
        " 'range_left_x',\n",
        " 'range_imbalance',\n",
        " 'range_nose_x',\n",
        " 'height_reduction']\n",
        "\n",
        " **Multiclass selected columns:**\n",
        "['entropy_right_y',\n",
        " 'entropy_tilt',\n",
        " 'entropy_nose_y',\n",
        " 'mean_feet_dist',\n",
        " 'mean_feet_angle',\n",
        " 'mean_right_y',\n",
        " 'mean_left_x',\n",
        " 'mean_right_knee_bent',\n",
        " 'mean_tilt',\n",
        " 'mean_nose_y',\n",
        " 'std_feet_angle',\n",
        " 'std_right_x',\n",
        " 'std_left_x',\n",
        " 'std_imbalance',\n",
        " 'std_tilt',\n",
        " 'max_feet_dist',\n",
        " 'max_right_x',\n",
        " 'min_feet_dist',\n",
        " 'min_left_x',\n",
        " 'min_imbalance',\n",
        " 'min_nose_x',\n",
        " 'range_feet_dist',\n",
        " 'range_feet_angle',\n",
        " 'range_right_y',\n",
        " 'range_left_x',\n",
        " 'range_imbalance',\n",
        " 'range_nose_x',\n",
        " 'height_reduction']\n",
        "\n",
        "**Regression Feature Selection:**\n",
        "['mean_feet_dist', 'height_reduction', 'max_feet_dist',\n",
        "       'max_right_x', 'std_imbalance', 'min_left_x', 'range_imbalance',\n",
        "       'range_nose_x', 'mean_nose_y', 'min_nose_x', 'entropy_nose_y',\n",
        "       'std_tilt', 'std_left_x', 'range_feet_dist', 'range_left_x']"
      ],
      "metadata": {
        "id": "8kCciA-TY267"
      }
    },
    {
      "cell_type": "markdown",
      "source": [
        "### 20 iteration of 10 fold cross validation"
      ],
      "metadata": {
        "id": "r9_H1IFaq79N"
      }
    },
    {
      "cell_type": "code",
      "source": [
        "Y_b = 1*(data['label']>0)\n",
        "Y_b"
      ],
      "metadata": {
        "colab": {
          "base_uri": "https://localhost:8080/"
        },
        "id": "OKUgRWjAMXd9",
        "outputId": "d1dd361c-81a5-497a-f4a0-9ffa1a3a3d75"
      },
      "execution_count": null,
      "outputs": [
        {
          "output_type": "execute_result",
          "data": {
            "text/plain": [
              "0      1\n",
              "1      1\n",
              "2      1\n",
              "3      1\n",
              "4      1\n",
              "      ..\n",
              "150    1\n",
              "151    1\n",
              "152    1\n",
              "153    1\n",
              "154    1\n",
              "Name: label, Length: 155, dtype: int64"
            ]
          },
          "metadata": {},
          "execution_count": 13
        }
      ]
    },
    {
      "cell_type": "code",
      "source": [
        "aggregate_f1 = []\n",
        "aggregate_acc = []\n",
        "\n",
        "for i in range(20):\n",
        "  model = RandomForestClassifier(n_estimators=100)\n",
        "  cv = KFold(n_splits=10, random_state=1, shuffle=True)\n",
        "  scores = cross_validate(model, X, Y, scoring=['f1_macro', 'accuracy'], cv=cv, n_jobs=-1)\n",
        "  # aggregate_score.append(scores.mean())\n",
        "  aggregate_f1 += list(scores['test_f1_macro'])\n",
        "  aggregate_acc += list(scores['test_accuracy'])"
      ],
      "metadata": {
        "id": "tbDOLtvPpqLc"
      },
      "execution_count": null,
      "outputs": []
    },
    {
      "cell_type": "code",
      "source": [
        "# 10 fold for regression\n",
        "\n",
        "aggregate_r2 = []\n",
        "# aggregate_acc = []\n",
        "\n",
        "for i in range(20):\n",
        "  model = RandomForestClassifier(n_estimators=100)\n",
        "  cv = KFold(n_splits=10, random_state=1, shuffle=True)\n",
        "  scores = cross_validate(model, X, Y, scoring=['f1_macro', 'accuracy'], cv=cv, n_jobs=-1)\n",
        "  # aggregate_score.append(scores.mean())\n",
        "  aggregate_f1 += list(scores['test_f1_macro'])\n",
        "  aggregate_acc += list(scores['test_accuracy'])"
      ],
      "metadata": {
        "id": "kng7189spLdq"
      },
      "execution_count": null,
      "outputs": []
    },
    {
      "cell_type": "code",
      "source": [
        "len(aggregate_f1)"
      ],
      "metadata": {
        "colab": {
          "base_uri": "https://localhost:8080/"
        },
        "id": "hD0UwPhdexMf",
        "outputId": "261bb5cf-c198-4f65-a3f7-36a36fe0bf50"
      },
      "execution_count": null,
      "outputs": [
        {
          "output_type": "execute_result",
          "data": {
            "text/plain": [
              "200"
            ]
          },
          "metadata": {},
          "execution_count": 35
        }
      ]
    },
    {
      "cell_type": "code",
      "source": [
        "np.round(100*np.mean(aggregate_f1),2), np.round(100*np.std(aggregate_f1),2), np.round(100*np.mean(aggregate_acc),2), np.round(100*np.std(aggregate_acc),2)"
      ],
      "metadata": {
        "colab": {
          "base_uri": "https://localhost:8080/"
        },
        "id": "0eS0p8z8epAy",
        "outputId": "dcd6d2f8-052d-4643-e155-8e110c78de11"
      },
      "execution_count": null,
      "outputs": [
        {
          "output_type": "execute_result",
          "data": {
            "text/plain": [
              "(80.23, 9.19, 83.06, 6.79)"
            ]
          },
          "metadata": {},
          "execution_count": 36
        }
      ]
    },
    {
      "cell_type": "markdown",
      "source": [
        "# Training Regression"
      ],
      "metadata": {
        "id": "p1PEaCSRluGM"
      }
    },
    {
      "cell_type": "code",
      "source": [
        "data2 = data.sample(frac=1)\n",
        "data2"
      ],
      "metadata": {
        "colab": {
          "base_uri": "https://localhost:8080/",
          "height": 488
        },
        "id": "LhLfqtWn1wpY",
        "outputId": "799a414a-9c8e-468a-b0ac-dba0305aa8c3"
      },
      "execution_count": null,
      "outputs": [
        {
          "output_type": "execute_result",
          "data": {
            "text/html": [
              "\n",
              "  <div id=\"df-ea89e179-392a-4cb7-967a-429e36ee9866\">\n",
              "    <div class=\"colab-df-container\">\n",
              "      <div>\n",
              "<style scoped>\n",
              "    .dataframe tbody tr th:only-of-type {\n",
              "        vertical-align: middle;\n",
              "    }\n",
              "\n",
              "    .dataframe tbody tr th {\n",
              "        vertical-align: top;\n",
              "    }\n",
              "\n",
              "    .dataframe thead th {\n",
              "        text-align: right;\n",
              "    }\n",
              "</style>\n",
              "<table border=\"1\" class=\"dataframe\">\n",
              "  <thead>\n",
              "    <tr style=\"text-align: right;\">\n",
              "      <th></th>\n",
              "      <th>entropy_feet_dist</th>\n",
              "      <th>entropy_feet_angle</th>\n",
              "      <th>entropy_right_x</th>\n",
              "      <th>entropy_right_y</th>\n",
              "      <th>entropy_left_x</th>\n",
              "      <th>entropy_left_y</th>\n",
              "      <th>entropy_left_knee_bent</th>\n",
              "      <th>entropy_right_knee_bent</th>\n",
              "      <th>entropy_imbalance</th>\n",
              "      <th>entropy_tilt</th>\n",
              "      <th>entropy_nose_x</th>\n",
              "      <th>entropy_nose_y</th>\n",
              "      <th>mean_feet_dist</th>\n",
              "      <th>mean_feet_angle</th>\n",
              "      <th>mean_right_x</th>\n",
              "      <th>mean_right_y</th>\n",
              "      <th>mean_left_x</th>\n",
              "      <th>mean_left_y</th>\n",
              "      <th>mean_left_knee_bent</th>\n",
              "      <th>mean_right_knee_bent</th>\n",
              "      <th>mean_imbalance</th>\n",
              "      <th>mean_tilt</th>\n",
              "      <th>mean_nose_x</th>\n",
              "      <th>mean_nose_y</th>\n",
              "      <th>std_feet_dist</th>\n",
              "      <th>std_feet_angle</th>\n",
              "      <th>std_right_x</th>\n",
              "      <th>std_right_y</th>\n",
              "      <th>std_left_x</th>\n",
              "      <th>std_left_y</th>\n",
              "      <th>std_left_knee_bent</th>\n",
              "      <th>std_right_knee_bent</th>\n",
              "      <th>std_imbalance</th>\n",
              "      <th>std_tilt</th>\n",
              "      <th>std_nose_x</th>\n",
              "      <th>std_nose_y</th>\n",
              "      <th>max_feet_dist</th>\n",
              "      <th>max_feet_angle</th>\n",
              "      <th>max_right_x</th>\n",
              "      <th>max_right_y</th>\n",
              "      <th>max_left_x</th>\n",
              "      <th>max_left_y</th>\n",
              "      <th>max_left_knee_bent</th>\n",
              "      <th>max_right_knee_bent</th>\n",
              "      <th>max_imbalance</th>\n",
              "      <th>max_tilt</th>\n",
              "      <th>max_nose_x</th>\n",
              "      <th>max_nose_y</th>\n",
              "      <th>min_feet_dist</th>\n",
              "      <th>min_feet_angle</th>\n",
              "      <th>min_right_x</th>\n",
              "      <th>min_right_y</th>\n",
              "      <th>min_left_x</th>\n",
              "      <th>min_left_y</th>\n",
              "      <th>min_left_knee_bent</th>\n",
              "      <th>min_right_knee_bent</th>\n",
              "      <th>min_imbalance</th>\n",
              "      <th>min_tilt</th>\n",
              "      <th>min_nose_x</th>\n",
              "      <th>min_nose_y</th>\n",
              "      <th>range_feet_dist</th>\n",
              "      <th>range_feet_angle</th>\n",
              "      <th>range_right_x</th>\n",
              "      <th>range_right_y</th>\n",
              "      <th>range_left_x</th>\n",
              "      <th>range_left_y</th>\n",
              "      <th>range_left_knee_bent</th>\n",
              "      <th>range_right_knee_bent</th>\n",
              "      <th>range_imbalance</th>\n",
              "      <th>range_tilt</th>\n",
              "      <th>range_nose_x</th>\n",
              "      <th>range_nose_y</th>\n",
              "      <th>stance_ratio</th>\n",
              "      <th>height_reduction</th>\n",
              "      <th>label</th>\n",
              "    </tr>\n",
              "  </thead>\n",
              "  <tbody>\n",
              "    <tr>\n",
              "      <th>53</th>\n",
              "      <td>2.0</td>\n",
              "      <td>0.0</td>\n",
              "      <td>0.0</td>\n",
              "      <td>0.0</td>\n",
              "      <td>-1.0</td>\n",
              "      <td>0.0</td>\n",
              "      <td>0.0</td>\n",
              "      <td>-0.0</td>\n",
              "      <td>0.0</td>\n",
              "      <td>-0.0</td>\n",
              "      <td>-1.0</td>\n",
              "      <td>-0.0</td>\n",
              "      <td>1.0</td>\n",
              "      <td>0.0</td>\n",
              "      <td>0.0</td>\n",
              "      <td>1.0</td>\n",
              "      <td>-1.0</td>\n",
              "      <td>1.0</td>\n",
              "      <td>-1.0</td>\n",
              "      <td>-0.0</td>\n",
              "      <td>1.0</td>\n",
              "      <td>0.0</td>\n",
              "      <td>0.0</td>\n",
              "      <td>0.0</td>\n",
              "      <td>-1.0</td>\n",
              "      <td>-1.0</td>\n",
              "      <td>-0.0</td>\n",
              "      <td>-1.0</td>\n",
              "      <td>-0.0</td>\n",
              "      <td>-1.0</td>\n",
              "      <td>-0.0</td>\n",
              "      <td>-0.0</td>\n",
              "      <td>-1.0</td>\n",
              "      <td>-1.0</td>\n",
              "      <td>0.0</td>\n",
              "      <td>-1.0</td>\n",
              "      <td>0.0</td>\n",
              "      <td>-1.0</td>\n",
              "      <td>-0.0</td>\n",
              "      <td>-0.0</td>\n",
              "      <td>-1.0</td>\n",
              "      <td>-1.0</td>\n",
              "      <td>-0.0</td>\n",
              "      <td>-0.0</td>\n",
              "      <td>0.0</td>\n",
              "      <td>-0.0</td>\n",
              "      <td>0.0</td>\n",
              "      <td>-0.0</td>\n",
              "      <td>1.0</td>\n",
              "      <td>1.0</td>\n",
              "      <td>0.0</td>\n",
              "      <td>1.0</td>\n",
              "      <td>-1.0</td>\n",
              "      <td>2.0</td>\n",
              "      <td>0.0</td>\n",
              "      <td>0.0</td>\n",
              "      <td>1.0</td>\n",
              "      <td>1.0</td>\n",
              "      <td>0.0</td>\n",
              "      <td>0.0</td>\n",
              "      <td>-1.0</td>\n",
              "      <td>-1.0</td>\n",
              "      <td>-1.0</td>\n",
              "      <td>-1.0</td>\n",
              "      <td>-0.0</td>\n",
              "      <td>-2.0</td>\n",
              "      <td>-0.0</td>\n",
              "      <td>-0.0</td>\n",
              "      <td>-1.0</td>\n",
              "      <td>-1.0</td>\n",
              "      <td>0.0</td>\n",
              "      <td>-1.0</td>\n",
              "      <td>2.0</td>\n",
              "      <td>-0.562626</td>\n",
              "      <td>2</td>\n",
              "    </tr>\n",
              "    <tr>\n",
              "      <th>28</th>\n",
              "      <td>2.0</td>\n",
              "      <td>-0.0</td>\n",
              "      <td>0.0</td>\n",
              "      <td>-2.0</td>\n",
              "      <td>2.0</td>\n",
              "      <td>-3.0</td>\n",
              "      <td>2.0</td>\n",
              "      <td>2.0</td>\n",
              "      <td>3.0</td>\n",
              "      <td>4.0</td>\n",
              "      <td>4.0</td>\n",
              "      <td>-0.0</td>\n",
              "      <td>0.0</td>\n",
              "      <td>0.0</td>\n",
              "      <td>0.0</td>\n",
              "      <td>1.0</td>\n",
              "      <td>-1.0</td>\n",
              "      <td>1.0</td>\n",
              "      <td>8.0</td>\n",
              "      <td>2.0</td>\n",
              "      <td>-1.0</td>\n",
              "      <td>-1.0</td>\n",
              "      <td>-1.0</td>\n",
              "      <td>0.0</td>\n",
              "      <td>0.0</td>\n",
              "      <td>1.0</td>\n",
              "      <td>-0.0</td>\n",
              "      <td>2.0</td>\n",
              "      <td>-1.0</td>\n",
              "      <td>3.0</td>\n",
              "      <td>9.0</td>\n",
              "      <td>4.0</td>\n",
              "      <td>1.0</td>\n",
              "      <td>3.0</td>\n",
              "      <td>1.0</td>\n",
              "      <td>0.0</td>\n",
              "      <td>1.0</td>\n",
              "      <td>1.0</td>\n",
              "      <td>0.0</td>\n",
              "      <td>2.0</td>\n",
              "      <td>-1.0</td>\n",
              "      <td>2.0</td>\n",
              "      <td>9.0</td>\n",
              "      <td>8.0</td>\n",
              "      <td>-1.0</td>\n",
              "      <td>-1.0</td>\n",
              "      <td>-1.0</td>\n",
              "      <td>1.0</td>\n",
              "      <td>-1.0</td>\n",
              "      <td>0.0</td>\n",
              "      <td>1.0</td>\n",
              "      <td>-0.0</td>\n",
              "      <td>-1.0</td>\n",
              "      <td>-0.0</td>\n",
              "      <td>-8.0</td>\n",
              "      <td>0.0</td>\n",
              "      <td>-4.0</td>\n",
              "      <td>-7.0</td>\n",
              "      <td>-5.0</td>\n",
              "      <td>0.0</td>\n",
              "      <td>2.0</td>\n",
              "      <td>0.0</td>\n",
              "      <td>-0.0</td>\n",
              "      <td>1.0</td>\n",
              "      <td>-0.0</td>\n",
              "      <td>2.0</td>\n",
              "      <td>9.0</td>\n",
              "      <td>4.0</td>\n",
              "      <td>3.0</td>\n",
              "      <td>6.0</td>\n",
              "      <td>3.0</td>\n",
              "      <td>1.0</td>\n",
              "      <td>0.0</td>\n",
              "      <td>-0.862662</td>\n",
              "      <td>2</td>\n",
              "    </tr>\n",
              "    <tr>\n",
              "      <th>47</th>\n",
              "      <td>1.0</td>\n",
              "      <td>1.0</td>\n",
              "      <td>0.0</td>\n",
              "      <td>1.0</td>\n",
              "      <td>0.0</td>\n",
              "      <td>1.0</td>\n",
              "      <td>-1.0</td>\n",
              "      <td>2.0</td>\n",
              "      <td>2.0</td>\n",
              "      <td>1.0</td>\n",
              "      <td>0.0</td>\n",
              "      <td>-1.0</td>\n",
              "      <td>-2.0</td>\n",
              "      <td>0.0</td>\n",
              "      <td>-2.0</td>\n",
              "      <td>-1.0</td>\n",
              "      <td>1.0</td>\n",
              "      <td>-0.0</td>\n",
              "      <td>1.0</td>\n",
              "      <td>0.0</td>\n",
              "      <td>0.0</td>\n",
              "      <td>0.0</td>\n",
              "      <td>-0.0</td>\n",
              "      <td>0.0</td>\n",
              "      <td>-1.0</td>\n",
              "      <td>1.0</td>\n",
              "      <td>-0.0</td>\n",
              "      <td>-1.0</td>\n",
              "      <td>-0.0</td>\n",
              "      <td>-1.0</td>\n",
              "      <td>0.0</td>\n",
              "      <td>-1.0</td>\n",
              "      <td>-0.0</td>\n",
              "      <td>2.0</td>\n",
              "      <td>-1.0</td>\n",
              "      <td>0.0</td>\n",
              "      <td>-2.0</td>\n",
              "      <td>0.0</td>\n",
              "      <td>-2.0</td>\n",
              "      <td>-1.0</td>\n",
              "      <td>1.0</td>\n",
              "      <td>-1.0</td>\n",
              "      <td>0.0</td>\n",
              "      <td>-1.0</td>\n",
              "      <td>0.0</td>\n",
              "      <td>2.0</td>\n",
              "      <td>-1.0</td>\n",
              "      <td>1.0</td>\n",
              "      <td>-1.0</td>\n",
              "      <td>-1.0</td>\n",
              "      <td>-1.0</td>\n",
              "      <td>0.0</td>\n",
              "      <td>1.0</td>\n",
              "      <td>1.0</td>\n",
              "      <td>0.0</td>\n",
              "      <td>0.0</td>\n",
              "      <td>-1.0</td>\n",
              "      <td>-1.0</td>\n",
              "      <td>0.0</td>\n",
              "      <td>-0.0</td>\n",
              "      <td>-1.0</td>\n",
              "      <td>1.0</td>\n",
              "      <td>-0.0</td>\n",
              "      <td>-1.0</td>\n",
              "      <td>-0.0</td>\n",
              "      <td>-1.0</td>\n",
              "      <td>0.0</td>\n",
              "      <td>-1.0</td>\n",
              "      <td>1.0</td>\n",
              "      <td>3.0</td>\n",
              "      <td>-1.0</td>\n",
              "      <td>1.0</td>\n",
              "      <td>1.0</td>\n",
              "      <td>0.311019</td>\n",
              "      <td>0</td>\n",
              "    </tr>\n",
              "    <tr>\n",
              "      <th>4</th>\n",
              "      <td>-1.0</td>\n",
              "      <td>1.0</td>\n",
              "      <td>0.0</td>\n",
              "      <td>-1.0</td>\n",
              "      <td>-1.0</td>\n",
              "      <td>-2.0</td>\n",
              "      <td>-1.0</td>\n",
              "      <td>0.0</td>\n",
              "      <td>-1.0</td>\n",
              "      <td>-1.0</td>\n",
              "      <td>-2.0</td>\n",
              "      <td>1.0</td>\n",
              "      <td>-1.0</td>\n",
              "      <td>-2.0</td>\n",
              "      <td>-2.0</td>\n",
              "      <td>-1.0</td>\n",
              "      <td>-1.0</td>\n",
              "      <td>-1.0</td>\n",
              "      <td>-0.0</td>\n",
              "      <td>-0.0</td>\n",
              "      <td>1.0</td>\n",
              "      <td>-0.0</td>\n",
              "      <td>-2.0</td>\n",
              "      <td>0.0</td>\n",
              "      <td>2.0</td>\n",
              "      <td>4.0</td>\n",
              "      <td>2.0</td>\n",
              "      <td>2.0</td>\n",
              "      <td>3.0</td>\n",
              "      <td>2.0</td>\n",
              "      <td>-0.0</td>\n",
              "      <td>-1.0</td>\n",
              "      <td>4.0</td>\n",
              "      <td>2.0</td>\n",
              "      <td>3.0</td>\n",
              "      <td>-1.0</td>\n",
              "      <td>1.0</td>\n",
              "      <td>3.0</td>\n",
              "      <td>1.0</td>\n",
              "      <td>1.0</td>\n",
              "      <td>-1.0</td>\n",
              "      <td>0.0</td>\n",
              "      <td>-0.0</td>\n",
              "      <td>-1.0</td>\n",
              "      <td>2.0</td>\n",
              "      <td>1.0</td>\n",
              "      <td>0.0</td>\n",
              "      <td>-0.0</td>\n",
              "      <td>-1.0</td>\n",
              "      <td>-4.0</td>\n",
              "      <td>-1.0</td>\n",
              "      <td>-1.0</td>\n",
              "      <td>-3.0</td>\n",
              "      <td>-0.0</td>\n",
              "      <td>0.0</td>\n",
              "      <td>0.0</td>\n",
              "      <td>-1.0</td>\n",
              "      <td>-1.0</td>\n",
              "      <td>-2.0</td>\n",
              "      <td>0.0</td>\n",
              "      <td>2.0</td>\n",
              "      <td>4.0</td>\n",
              "      <td>2.0</td>\n",
              "      <td>1.0</td>\n",
              "      <td>2.0</td>\n",
              "      <td>1.0</td>\n",
              "      <td>-0.0</td>\n",
              "      <td>-1.0</td>\n",
              "      <td>4.0</td>\n",
              "      <td>1.0</td>\n",
              "      <td>2.0</td>\n",
              "      <td>-1.0</td>\n",
              "      <td>3.0</td>\n",
              "      <td>-3.144904</td>\n",
              "      <td>1</td>\n",
              "    </tr>\n",
              "    <tr>\n",
              "      <th>43</th>\n",
              "      <td>-0.0</td>\n",
              "      <td>0.0</td>\n",
              "      <td>0.0</td>\n",
              "      <td>-1.0</td>\n",
              "      <td>-1.0</td>\n",
              "      <td>-0.0</td>\n",
              "      <td>-0.0</td>\n",
              "      <td>-0.0</td>\n",
              "      <td>-0.0</td>\n",
              "      <td>1.0</td>\n",
              "      <td>1.0</td>\n",
              "      <td>0.0</td>\n",
              "      <td>0.0</td>\n",
              "      <td>0.0</td>\n",
              "      <td>-1.0</td>\n",
              "      <td>0.0</td>\n",
              "      <td>-1.0</td>\n",
              "      <td>-0.0</td>\n",
              "      <td>-0.0</td>\n",
              "      <td>0.0</td>\n",
              "      <td>2.0</td>\n",
              "      <td>-0.0</td>\n",
              "      <td>-1.0</td>\n",
              "      <td>-1.0</td>\n",
              "      <td>-1.0</td>\n",
              "      <td>-1.0</td>\n",
              "      <td>-0.0</td>\n",
              "      <td>-1.0</td>\n",
              "      <td>-1.0</td>\n",
              "      <td>0.0</td>\n",
              "      <td>-0.0</td>\n",
              "      <td>-1.0</td>\n",
              "      <td>1.0</td>\n",
              "      <td>-0.0</td>\n",
              "      <td>0.0</td>\n",
              "      <td>2.0</td>\n",
              "      <td>-1.0</td>\n",
              "      <td>-0.0</td>\n",
              "      <td>-1.0</td>\n",
              "      <td>0.0</td>\n",
              "      <td>-1.0</td>\n",
              "      <td>-0.0</td>\n",
              "      <td>-0.0</td>\n",
              "      <td>-0.0</td>\n",
              "      <td>2.0</td>\n",
              "      <td>0.0</td>\n",
              "      <td>-1.0</td>\n",
              "      <td>-0.0</td>\n",
              "      <td>0.0</td>\n",
              "      <td>1.0</td>\n",
              "      <td>-0.0</td>\n",
              "      <td>1.0</td>\n",
              "      <td>-1.0</td>\n",
              "      <td>-0.0</td>\n",
              "      <td>0.0</td>\n",
              "      <td>1.0</td>\n",
              "      <td>2.0</td>\n",
              "      <td>0.0</td>\n",
              "      <td>-1.0</td>\n",
              "      <td>-2.0</td>\n",
              "      <td>-1.0</td>\n",
              "      <td>-1.0</td>\n",
              "      <td>-1.0</td>\n",
              "      <td>-0.0</td>\n",
              "      <td>-1.0</td>\n",
              "      <td>-0.0</td>\n",
              "      <td>-0.0</td>\n",
              "      <td>-1.0</td>\n",
              "      <td>0.0</td>\n",
              "      <td>0.0</td>\n",
              "      <td>0.0</td>\n",
              "      <td>1.0</td>\n",
              "      <td>2.0</td>\n",
              "      <td>-0.251338</td>\n",
              "      <td>0</td>\n",
              "    </tr>\n",
              "    <tr>\n",
              "      <th>...</th>\n",
              "      <td>...</td>\n",
              "      <td>...</td>\n",
              "      <td>...</td>\n",
              "      <td>...</td>\n",
              "      <td>...</td>\n",
              "      <td>...</td>\n",
              "      <td>...</td>\n",
              "      <td>...</td>\n",
              "      <td>...</td>\n",
              "      <td>...</td>\n",
              "      <td>...</td>\n",
              "      <td>...</td>\n",
              "      <td>...</td>\n",
              "      <td>...</td>\n",
              "      <td>...</td>\n",
              "      <td>...</td>\n",
              "      <td>...</td>\n",
              "      <td>...</td>\n",
              "      <td>...</td>\n",
              "      <td>...</td>\n",
              "      <td>...</td>\n",
              "      <td>...</td>\n",
              "      <td>...</td>\n",
              "      <td>...</td>\n",
              "      <td>...</td>\n",
              "      <td>...</td>\n",
              "      <td>...</td>\n",
              "      <td>...</td>\n",
              "      <td>...</td>\n",
              "      <td>...</td>\n",
              "      <td>...</td>\n",
              "      <td>...</td>\n",
              "      <td>...</td>\n",
              "      <td>...</td>\n",
              "      <td>...</td>\n",
              "      <td>...</td>\n",
              "      <td>...</td>\n",
              "      <td>...</td>\n",
              "      <td>...</td>\n",
              "      <td>...</td>\n",
              "      <td>...</td>\n",
              "      <td>...</td>\n",
              "      <td>...</td>\n",
              "      <td>...</td>\n",
              "      <td>...</td>\n",
              "      <td>...</td>\n",
              "      <td>...</td>\n",
              "      <td>...</td>\n",
              "      <td>...</td>\n",
              "      <td>...</td>\n",
              "      <td>...</td>\n",
              "      <td>...</td>\n",
              "      <td>...</td>\n",
              "      <td>...</td>\n",
              "      <td>...</td>\n",
              "      <td>...</td>\n",
              "      <td>...</td>\n",
              "      <td>...</td>\n",
              "      <td>...</td>\n",
              "      <td>...</td>\n",
              "      <td>...</td>\n",
              "      <td>...</td>\n",
              "      <td>...</td>\n",
              "      <td>...</td>\n",
              "      <td>...</td>\n",
              "      <td>...</td>\n",
              "      <td>...</td>\n",
              "      <td>...</td>\n",
              "      <td>...</td>\n",
              "      <td>...</td>\n",
              "      <td>...</td>\n",
              "      <td>...</td>\n",
              "      <td>...</td>\n",
              "      <td>...</td>\n",
              "      <td>...</td>\n",
              "    </tr>\n",
              "    <tr>\n",
              "      <th>23</th>\n",
              "      <td>1.0</td>\n",
              "      <td>0.0</td>\n",
              "      <td>0.0</td>\n",
              "      <td>1.0</td>\n",
              "      <td>2.0</td>\n",
              "      <td>1.0</td>\n",
              "      <td>1.0</td>\n",
              "      <td>1.0</td>\n",
              "      <td>0.0</td>\n",
              "      <td>1.0</td>\n",
              "      <td>-1.0</td>\n",
              "      <td>-1.0</td>\n",
              "      <td>-1.0</td>\n",
              "      <td>-1.0</td>\n",
              "      <td>0.0</td>\n",
              "      <td>-2.0</td>\n",
              "      <td>2.0</td>\n",
              "      <td>-2.0</td>\n",
              "      <td>-0.0</td>\n",
              "      <td>-0.0</td>\n",
              "      <td>-1.0</td>\n",
              "      <td>-1.0</td>\n",
              "      <td>-0.0</td>\n",
              "      <td>-1.0</td>\n",
              "      <td>-1.0</td>\n",
              "      <td>0.0</td>\n",
              "      <td>0.0</td>\n",
              "      <td>-1.0</td>\n",
              "      <td>1.0</td>\n",
              "      <td>-0.0</td>\n",
              "      <td>-0.0</td>\n",
              "      <td>-0.0</td>\n",
              "      <td>-1.0</td>\n",
              "      <td>-1.0</td>\n",
              "      <td>-0.0</td>\n",
              "      <td>4.0</td>\n",
              "      <td>-1.0</td>\n",
              "      <td>0.0</td>\n",
              "      <td>0.0</td>\n",
              "      <td>-1.0</td>\n",
              "      <td>2.0</td>\n",
              "      <td>-1.0</td>\n",
              "      <td>-0.0</td>\n",
              "      <td>-1.0</td>\n",
              "      <td>-1.0</td>\n",
              "      <td>-1.0</td>\n",
              "      <td>-0.0</td>\n",
              "      <td>-0.0</td>\n",
              "      <td>-1.0</td>\n",
              "      <td>-1.0</td>\n",
              "      <td>-1.0</td>\n",
              "      <td>-0.0</td>\n",
              "      <td>1.0</td>\n",
              "      <td>-0.0</td>\n",
              "      <td>0.0</td>\n",
              "      <td>-0.0</td>\n",
              "      <td>-0.0</td>\n",
              "      <td>0.0</td>\n",
              "      <td>-0.0</td>\n",
              "      <td>-4.0</td>\n",
              "      <td>-0.0</td>\n",
              "      <td>0.0</td>\n",
              "      <td>1.0</td>\n",
              "      <td>-1.0</td>\n",
              "      <td>1.0</td>\n",
              "      <td>-0.0</td>\n",
              "      <td>-0.0</td>\n",
              "      <td>-0.0</td>\n",
              "      <td>-1.0</td>\n",
              "      <td>-1.0</td>\n",
              "      <td>-0.0</td>\n",
              "      <td>4.0</td>\n",
              "      <td>0.0</td>\n",
              "      <td>-0.703828</td>\n",
              "      <td>0</td>\n",
              "    </tr>\n",
              "    <tr>\n",
              "      <th>52</th>\n",
              "      <td>0.0</td>\n",
              "      <td>-1.0</td>\n",
              "      <td>1.0</td>\n",
              "      <td>0.0</td>\n",
              "      <td>-0.0</td>\n",
              "      <td>-1.0</td>\n",
              "      <td>0.0</td>\n",
              "      <td>-1.0</td>\n",
              "      <td>-0.0</td>\n",
              "      <td>-1.0</td>\n",
              "      <td>-0.0</td>\n",
              "      <td>1.0</td>\n",
              "      <td>2.0</td>\n",
              "      <td>0.0</td>\n",
              "      <td>0.0</td>\n",
              "      <td>1.0</td>\n",
              "      <td>-2.0</td>\n",
              "      <td>1.0</td>\n",
              "      <td>-1.0</td>\n",
              "      <td>-1.0</td>\n",
              "      <td>1.0</td>\n",
              "      <td>1.0</td>\n",
              "      <td>1.0</td>\n",
              "      <td>1.0</td>\n",
              "      <td>-2.0</td>\n",
              "      <td>-1.0</td>\n",
              "      <td>1.0</td>\n",
              "      <td>-0.0</td>\n",
              "      <td>0.0</td>\n",
              "      <td>-0.0</td>\n",
              "      <td>-0.0</td>\n",
              "      <td>0.0</td>\n",
              "      <td>0.0</td>\n",
              "      <td>-0.0</td>\n",
              "      <td>-1.0</td>\n",
              "      <td>-0.0</td>\n",
              "      <td>1.0</td>\n",
              "      <td>-0.0</td>\n",
              "      <td>0.0</td>\n",
              "      <td>0.0</td>\n",
              "      <td>-1.0</td>\n",
              "      <td>-0.0</td>\n",
              "      <td>-0.0</td>\n",
              "      <td>0.0</td>\n",
              "      <td>2.0</td>\n",
              "      <td>1.0</td>\n",
              "      <td>0.0</td>\n",
              "      <td>0.0</td>\n",
              "      <td>3.0</td>\n",
              "      <td>1.0</td>\n",
              "      <td>-1.0</td>\n",
              "      <td>1.0</td>\n",
              "      <td>-2.0</td>\n",
              "      <td>0.0</td>\n",
              "      <td>0.0</td>\n",
              "      <td>0.0</td>\n",
              "      <td>1.0</td>\n",
              "      <td>1.0</td>\n",
              "      <td>1.0</td>\n",
              "      <td>1.0</td>\n",
              "      <td>-2.0</td>\n",
              "      <td>-1.0</td>\n",
              "      <td>1.0</td>\n",
              "      <td>-1.0</td>\n",
              "      <td>1.0</td>\n",
              "      <td>-0.0</td>\n",
              "      <td>-0.0</td>\n",
              "      <td>0.0</td>\n",
              "      <td>0.0</td>\n",
              "      <td>-0.0</td>\n",
              "      <td>-1.0</td>\n",
              "      <td>-1.0</td>\n",
              "      <td>1.0</td>\n",
              "      <td>0.060814</td>\n",
              "      <td>0</td>\n",
              "    </tr>\n",
              "    <tr>\n",
              "      <th>108</th>\n",
              "      <td>2.0</td>\n",
              "      <td>0.0</td>\n",
              "      <td>-1.0</td>\n",
              "      <td>1.0</td>\n",
              "      <td>-1.0</td>\n",
              "      <td>1.0</td>\n",
              "      <td>3.0</td>\n",
              "      <td>1.0</td>\n",
              "      <td>1.0</td>\n",
              "      <td>0.0</td>\n",
              "      <td>0.0</td>\n",
              "      <td>1.0</td>\n",
              "      <td>-0.0</td>\n",
              "      <td>0.0</td>\n",
              "      <td>1.0</td>\n",
              "      <td>-0.0</td>\n",
              "      <td>0.0</td>\n",
              "      <td>-0.0</td>\n",
              "      <td>-0.0</td>\n",
              "      <td>0.0</td>\n",
              "      <td>-0.0</td>\n",
              "      <td>-0.0</td>\n",
              "      <td>1.0</td>\n",
              "      <td>-1.0</td>\n",
              "      <td>-1.0</td>\n",
              "      <td>1.0</td>\n",
              "      <td>-1.0</td>\n",
              "      <td>-1.0</td>\n",
              "      <td>-1.0</td>\n",
              "      <td>0.0</td>\n",
              "      <td>-0.0</td>\n",
              "      <td>1.0</td>\n",
              "      <td>-1.0</td>\n",
              "      <td>-1.0</td>\n",
              "      <td>-1.0</td>\n",
              "      <td>0.0</td>\n",
              "      <td>-1.0</td>\n",
              "      <td>0.0</td>\n",
              "      <td>0.0</td>\n",
              "      <td>-0.0</td>\n",
              "      <td>0.0</td>\n",
              "      <td>1.0</td>\n",
              "      <td>-0.0</td>\n",
              "      <td>0.0</td>\n",
              "      <td>-1.0</td>\n",
              "      <td>-1.0</td>\n",
              "      <td>-0.0</td>\n",
              "      <td>-1.0</td>\n",
              "      <td>-0.0</td>\n",
              "      <td>-1.0</td>\n",
              "      <td>1.0</td>\n",
              "      <td>0.0</td>\n",
              "      <td>1.0</td>\n",
              "      <td>-1.0</td>\n",
              "      <td>0.0</td>\n",
              "      <td>-1.0</td>\n",
              "      <td>-0.0</td>\n",
              "      <td>-0.0</td>\n",
              "      <td>1.0</td>\n",
              "      <td>-0.0</td>\n",
              "      <td>-1.0</td>\n",
              "      <td>1.0</td>\n",
              "      <td>-1.0</td>\n",
              "      <td>-1.0</td>\n",
              "      <td>-0.0</td>\n",
              "      <td>1.0</td>\n",
              "      <td>-0.0</td>\n",
              "      <td>1.0</td>\n",
              "      <td>-0.0</td>\n",
              "      <td>-1.0</td>\n",
              "      <td>-1.0</td>\n",
              "      <td>0.0</td>\n",
              "      <td>-1.0</td>\n",
              "      <td>0.929945</td>\n",
              "      <td>0</td>\n",
              "    </tr>\n",
              "    <tr>\n",
              "      <th>103</th>\n",
              "      <td>1.0</td>\n",
              "      <td>1.0</td>\n",
              "      <td>0.0</td>\n",
              "      <td>1.0</td>\n",
              "      <td>-1.0</td>\n",
              "      <td>0.0</td>\n",
              "      <td>0.0</td>\n",
              "      <td>0.0</td>\n",
              "      <td>0.0</td>\n",
              "      <td>0.0</td>\n",
              "      <td>-1.0</td>\n",
              "      <td>-1.0</td>\n",
              "      <td>-1.0</td>\n",
              "      <td>1.0</td>\n",
              "      <td>-0.0</td>\n",
              "      <td>-0.0</td>\n",
              "      <td>0.0</td>\n",
              "      <td>-1.0</td>\n",
              "      <td>-0.0</td>\n",
              "      <td>1.0</td>\n",
              "      <td>-0.0</td>\n",
              "      <td>0.0</td>\n",
              "      <td>0.0</td>\n",
              "      <td>0.0</td>\n",
              "      <td>-0.0</td>\n",
              "      <td>1.0</td>\n",
              "      <td>-1.0</td>\n",
              "      <td>-1.0</td>\n",
              "      <td>-0.0</td>\n",
              "      <td>0.0</td>\n",
              "      <td>-0.0</td>\n",
              "      <td>1.0</td>\n",
              "      <td>-1.0</td>\n",
              "      <td>-1.0</td>\n",
              "      <td>-0.0</td>\n",
              "      <td>-0.0</td>\n",
              "      <td>-0.0</td>\n",
              "      <td>3.0</td>\n",
              "      <td>-1.0</td>\n",
              "      <td>-1.0</td>\n",
              "      <td>-0.0</td>\n",
              "      <td>-1.0</td>\n",
              "      <td>-0.0</td>\n",
              "      <td>1.0</td>\n",
              "      <td>-1.0</td>\n",
              "      <td>0.0</td>\n",
              "      <td>-0.0</td>\n",
              "      <td>-0.0</td>\n",
              "      <td>-1.0</td>\n",
              "      <td>-0.0</td>\n",
              "      <td>0.0</td>\n",
              "      <td>-1.0</td>\n",
              "      <td>0.0</td>\n",
              "      <td>-2.0</td>\n",
              "      <td>0.0</td>\n",
              "      <td>-0.0</td>\n",
              "      <td>1.0</td>\n",
              "      <td>1.0</td>\n",
              "      <td>1.0</td>\n",
              "      <td>0.0</td>\n",
              "      <td>0.0</td>\n",
              "      <td>2.0</td>\n",
              "      <td>-1.0</td>\n",
              "      <td>-0.0</td>\n",
              "      <td>-1.0</td>\n",
              "      <td>1.0</td>\n",
              "      <td>-0.0</td>\n",
              "      <td>1.0</td>\n",
              "      <td>-1.0</td>\n",
              "      <td>-1.0</td>\n",
              "      <td>-0.0</td>\n",
              "      <td>-0.0</td>\n",
              "      <td>-1.0</td>\n",
              "      <td>0.869215</td>\n",
              "      <td>0</td>\n",
              "    </tr>\n",
              "    <tr>\n",
              "      <th>34</th>\n",
              "      <td>-0.0</td>\n",
              "      <td>-0.0</td>\n",
              "      <td>0.0</td>\n",
              "      <td>-0.0</td>\n",
              "      <td>1.0</td>\n",
              "      <td>-1.0</td>\n",
              "      <td>1.0</td>\n",
              "      <td>-1.0</td>\n",
              "      <td>0.0</td>\n",
              "      <td>1.0</td>\n",
              "      <td>-2.0</td>\n",
              "      <td>0.0</td>\n",
              "      <td>-0.0</td>\n",
              "      <td>-1.0</td>\n",
              "      <td>0.0</td>\n",
              "      <td>-2.0</td>\n",
              "      <td>1.0</td>\n",
              "      <td>-1.0</td>\n",
              "      <td>-0.0</td>\n",
              "      <td>-1.0</td>\n",
              "      <td>-2.0</td>\n",
              "      <td>-1.0</td>\n",
              "      <td>-1.0</td>\n",
              "      <td>-1.0</td>\n",
              "      <td>2.0</td>\n",
              "      <td>-1.0</td>\n",
              "      <td>3.0</td>\n",
              "      <td>-1.0</td>\n",
              "      <td>1.0</td>\n",
              "      <td>-1.0</td>\n",
              "      <td>-0.0</td>\n",
              "      <td>-0.0</td>\n",
              "      <td>1.0</td>\n",
              "      <td>-1.0</td>\n",
              "      <td>-0.0</td>\n",
              "      <td>-0.0</td>\n",
              "      <td>1.0</td>\n",
              "      <td>-0.0</td>\n",
              "      <td>1.0</td>\n",
              "      <td>-2.0</td>\n",
              "      <td>1.0</td>\n",
              "      <td>-1.0</td>\n",
              "      <td>-0.0</td>\n",
              "      <td>-1.0</td>\n",
              "      <td>-1.0</td>\n",
              "      <td>-1.0</td>\n",
              "      <td>-1.0</td>\n",
              "      <td>-1.0</td>\n",
              "      <td>-1.0</td>\n",
              "      <td>0.0</td>\n",
              "      <td>-2.0</td>\n",
              "      <td>-0.0</td>\n",
              "      <td>1.0</td>\n",
              "      <td>1.0</td>\n",
              "      <td>-0.0</td>\n",
              "      <td>0.0</td>\n",
              "      <td>-1.0</td>\n",
              "      <td>0.0</td>\n",
              "      <td>-0.0</td>\n",
              "      <td>-0.0</td>\n",
              "      <td>2.0</td>\n",
              "      <td>-0.0</td>\n",
              "      <td>3.0</td>\n",
              "      <td>-1.0</td>\n",
              "      <td>1.0</td>\n",
              "      <td>-2.0</td>\n",
              "      <td>-0.0</td>\n",
              "      <td>-1.0</td>\n",
              "      <td>1.0</td>\n",
              "      <td>-1.0</td>\n",
              "      <td>-0.0</td>\n",
              "      <td>-0.0</td>\n",
              "      <td>-0.0</td>\n",
              "      <td>-0.412710</td>\n",
              "      <td>3</td>\n",
              "    </tr>\n",
              "  </tbody>\n",
              "</table>\n",
              "<p>155 rows × 75 columns</p>\n",
              "</div>\n",
              "      <button class=\"colab-df-convert\" onclick=\"convertToInteractive('df-ea89e179-392a-4cb7-967a-429e36ee9866')\"\n",
              "              title=\"Convert this dataframe to an interactive table.\"\n",
              "              style=\"display:none;\">\n",
              "        \n",
              "  <svg xmlns=\"http://www.w3.org/2000/svg\" height=\"24px\"viewBox=\"0 0 24 24\"\n",
              "       width=\"24px\">\n",
              "    <path d=\"M0 0h24v24H0V0z\" fill=\"none\"/>\n",
              "    <path d=\"M18.56 5.44l.94 2.06.94-2.06 2.06-.94-2.06-.94-.94-2.06-.94 2.06-2.06.94zm-11 1L8.5 8.5l.94-2.06 2.06-.94-2.06-.94L8.5 2.5l-.94 2.06-2.06.94zm10 10l.94 2.06.94-2.06 2.06-.94-2.06-.94-.94-2.06-.94 2.06-2.06.94z\"/><path d=\"M17.41 7.96l-1.37-1.37c-.4-.4-.92-.59-1.43-.59-.52 0-1.04.2-1.43.59L10.3 9.45l-7.72 7.72c-.78.78-.78 2.05 0 2.83L4 21.41c.39.39.9.59 1.41.59.51 0 1.02-.2 1.41-.59l7.78-7.78 2.81-2.81c.8-.78.8-2.07 0-2.86zM5.41 20L4 18.59l7.72-7.72 1.47 1.35L5.41 20z\"/>\n",
              "  </svg>\n",
              "      </button>\n",
              "      \n",
              "  <style>\n",
              "    .colab-df-container {\n",
              "      display:flex;\n",
              "      flex-wrap:wrap;\n",
              "      gap: 12px;\n",
              "    }\n",
              "\n",
              "    .colab-df-convert {\n",
              "      background-color: #E8F0FE;\n",
              "      border: none;\n",
              "      border-radius: 50%;\n",
              "      cursor: pointer;\n",
              "      display: none;\n",
              "      fill: #1967D2;\n",
              "      height: 32px;\n",
              "      padding: 0 0 0 0;\n",
              "      width: 32px;\n",
              "    }\n",
              "\n",
              "    .colab-df-convert:hover {\n",
              "      background-color: #E2EBFA;\n",
              "      box-shadow: 0px 1px 2px rgba(60, 64, 67, 0.3), 0px 1px 3px 1px rgba(60, 64, 67, 0.15);\n",
              "      fill: #174EA6;\n",
              "    }\n",
              "\n",
              "    [theme=dark] .colab-df-convert {\n",
              "      background-color: #3B4455;\n",
              "      fill: #D2E3FC;\n",
              "    }\n",
              "\n",
              "    [theme=dark] .colab-df-convert:hover {\n",
              "      background-color: #434B5C;\n",
              "      box-shadow: 0px 1px 3px 1px rgba(0, 0, 0, 0.15);\n",
              "      filter: drop-shadow(0px 1px 2px rgba(0, 0, 0, 0.3));\n",
              "      fill: #FFFFFF;\n",
              "    }\n",
              "  </style>\n",
              "\n",
              "      <script>\n",
              "        const buttonEl =\n",
              "          document.querySelector('#df-ea89e179-392a-4cb7-967a-429e36ee9866 button.colab-df-convert');\n",
              "        buttonEl.style.display =\n",
              "          google.colab.kernel.accessAllowed ? 'block' : 'none';\n",
              "\n",
              "        async function convertToInteractive(key) {\n",
              "          const element = document.querySelector('#df-ea89e179-392a-4cb7-967a-429e36ee9866');\n",
              "          const dataTable =\n",
              "            await google.colab.kernel.invokeFunction('convertToInteractive',\n",
              "                                                     [key], {});\n",
              "          if (!dataTable) return;\n",
              "\n",
              "          const docLinkHtml = 'Like what you see? Visit the ' +\n",
              "            '<a target=\"_blank\" href=https://colab.research.google.com/notebooks/data_table.ipynb>data table notebook</a>'\n",
              "            + ' to learn more about interactive tables.';\n",
              "          element.innerHTML = '';\n",
              "          dataTable['output_type'] = 'display_data';\n",
              "          await google.colab.output.renderOutput(dataTable, element);\n",
              "          const docLink = document.createElement('div');\n",
              "          docLink.innerHTML = docLinkHtml;\n",
              "          element.appendChild(docLink);\n",
              "        }\n",
              "      </script>\n",
              "    </div>\n",
              "  </div>\n",
              "  "
            ],
            "text/plain": [
              "     entropy_feet_dist  entropy_feet_angle  ...  height_reduction  label\n",
              "53                 2.0                 0.0  ...         -0.562626      2\n",
              "28                 2.0                -0.0  ...         -0.862662      2\n",
              "47                 1.0                 1.0  ...          0.311019      0\n",
              "4                 -1.0                 1.0  ...         -3.144904      1\n",
              "43                -0.0                 0.0  ...         -0.251338      0\n",
              "..                 ...                 ...  ...               ...    ...\n",
              "23                 1.0                 0.0  ...         -0.703828      0\n",
              "52                 0.0                -1.0  ...          0.060814      0\n",
              "108                2.0                 0.0  ...          0.929945      0\n",
              "103                1.0                 1.0  ...          0.869215      0\n",
              "34                -0.0                -0.0  ...         -0.412710      3\n",
              "\n",
              "[155 rows x 75 columns]"
            ]
          },
          "metadata": {},
          "execution_count": 87
        }
      ]
    },
    {
      "cell_type": "code",
      "source": [
        "X = data2.drop(['label'] , axis = 1)[rf_selected_cols[:15]]\n",
        "Y = data2['label']"
      ],
      "metadata": {
        "id": "aNtELOtiKJkX"
      },
      "execution_count": null,
      "outputs": []
    },
    {
      "cell_type": "code",
      "source": [
        "from sklearn.ensemble import RandomForestRegressor\n",
        "from sklearn.linear_model import LinearRegression"
      ],
      "metadata": {
        "id": "KKp2qDFapWKR"
      },
      "execution_count": null,
      "outputs": []
    },
    {
      "cell_type": "markdown",
      "source": [
        "Implementing 10 fold cross validation"
      ],
      "metadata": {
        "id": "N-TxdM7aOB4d"
      }
    },
    {
      "cell_type": "code",
      "source": [
        "from sklearn.ensemble import RandomForestRegressor\n",
        "from sklearn.datasets import make_regression\n",
        "\n",
        "# X, y = make_regression(n_features=4, n_informative=2,\n",
        "#                        random_state=0, shuffle=False)\n",
        "\n",
        "total_pred = []\n",
        "total_Y = []\n",
        "total_mae = []\n",
        "total_corr = []\n",
        "for iter in range(20):\n",
        "  data2 = data.sample(frac=1)\n",
        "  X = data2.drop(['label'] , axis = 1)[sorted_cols[:15]]\n",
        "  Y = data2['label']\n",
        "\n",
        "  trainx_list = [X[16:],\n",
        "                pd.concat([X[:16],X[32:]], axis=0),\n",
        "                pd.concat([X[:32],X[48:]], axis=0),\n",
        "                pd.concat([X[:48],X[64:]], axis=0),\n",
        "                pd.concat([X[:64],X[80:]], axis=0),\n",
        "                pd.concat([X[:80],X[96:]], axis=0),\n",
        "                pd.concat([X[:96],X[112:]], axis=0),\n",
        "                pd.concat([X[:112],X[128:]], axis=0),\n",
        "                pd.concat([X[:128],X[144:]], axis=0),\n",
        "                X[:144]]\n",
        "\n",
        "  trainy_list = [Y[16:],\n",
        "                pd.concat([Y[:16],Y[32:]], axis=0),\n",
        "                pd.concat([Y[:32],Y[48:]], axis=0),\n",
        "                pd.concat([Y[:48],Y[64:]], axis=0),\n",
        "                pd.concat([Y[:64],Y[80:]], axis=0),\n",
        "                pd.concat([Y[:80],Y[96:]], axis=0),\n",
        "                pd.concat([Y[:96],Y[112:]], axis=0),\n",
        "                pd.concat([Y[:112],Y[128:]], axis=0),\n",
        "                pd.concat([Y[:128],Y[144:]], axis=0),\n",
        "                Y[:144]]\n",
        "\n",
        "  testx_list = [X[:16],\n",
        "                X[16:32],\n",
        "                X[32:48],\n",
        "                X[48:64],\n",
        "                X[64:80],\n",
        "                X[80:96],\n",
        "                X[96:112],\n",
        "                X[112:128],\n",
        "                X[128:144],\n",
        "                X[144:]]\n",
        "\n",
        "  testy_list = [Y[:16],\n",
        "                Y[16:32],\n",
        "                Y[32:48],\n",
        "                Y[48:64],\n",
        "                Y[64:80],\n",
        "                Y[80:96],\n",
        "                Y[96:112],\n",
        "                Y[112:128],\n",
        "                Y[128:144],\n",
        "                Y[144:],\n",
        "  ]\n",
        "\n",
        "  ypred_list = []\n",
        "  ytest_list = []\n",
        "  for i in range(10):\n",
        "    model = RandomForestRegressor(max_depth=10, random_state=0)\n",
        "    # model = LinearRegression()\n",
        "    model.fit(trainx_list[i], trainy_list[i])\n",
        "    ytest = testy_list[i]\n",
        "    ypred = model.predict(testx_list[i])\n",
        "    total_pred += list(ypred)\n",
        "    total_Y += list(testy_list[i])\n",
        "    ypred_list+= list(ypred)\n",
        "    ytest_list+= list(testy_list[i])\n",
        "\n",
        "  ypred_list = np.array(ypred_list)\n",
        "  ytest_list = np.array(ytest_list)\n",
        "\n",
        "  mae = np.mean(np.abs(ytest_list - ypred_list))\n",
        "  corr = pearsonr(ytest_list, ypred_list)[0]\n",
        "  total_mae.append(mae)\n",
        "  total_corr.append(corr)\n",
        "\n",
        "total_pred = np.array(total_pred)"
      ],
      "metadata": {
        "id": "Mls-Uf-HuG3x"
      },
      "execution_count": null,
      "outputs": []
    },
    {
      "cell_type": "code",
      "source": [
        "print('10 fold CV', np.mean(total_mae).round(4), '\\t', np.std(total_mae).round(4),'\\t', \n",
        "        np.mean(total_corr).round(4), '\\t', np.std(total_corr).round(4))"
      ],
      "metadata": {
        "colab": {
          "base_uri": "https://localhost:8080/"
        },
        "id": "GR3ijzSOC3lT",
        "outputId": "a20947c7-aaf9-48fb-876f-988998c577b2"
      },
      "execution_count": null,
      "outputs": [
        {
          "output_type": "stream",
          "name": "stdout",
          "text": [
            "10 fold CV 0.6225 \t 0.0132 \t 0.7268 \t 0.0144\n"
          ]
        }
      ]
    },
    {
      "cell_type": "code",
      "source": [
        "correct = (total_Y==total_pred.round().astype(int))*1\n",
        "correct.sum()"
      ],
      "metadata": {
        "colab": {
          "base_uri": "https://localhost:8080/"
        },
        "id": "ra9bPyVpV77e",
        "outputId": "192a4453-d7d3-4d63-e0e1-1db95a0b989e"
      },
      "execution_count": null,
      "outputs": [
        {
          "output_type": "execute_result",
          "data": {
            "text/plain": [
              "1615"
            ]
          },
          "metadata": {},
          "execution_count": 105
        }
      ]
    },
    {
      "cell_type": "code",
      "source": [
        "correct.sum()/len(correct)"
      ],
      "metadata": {
        "colab": {
          "base_uri": "https://localhost:8080/"
        },
        "id": "cNUVwf7WnC8y",
        "outputId": "7c999f62-cffb-4565-be56-6fa4d4a6715b"
      },
      "execution_count": null,
      "outputs": [
        {
          "output_type": "execute_result",
          "data": {
            "text/plain": [
              "0.5209677419354839"
            ]
          },
          "metadata": {},
          "execution_count": 147
        }
      ]
    },
    {
      "cell_type": "code",
      "source": [
        "loss = np.mean(np.abs(total_Y - total_pred))\n",
        "loss"
      ],
      "metadata": {
        "colab": {
          "base_uri": "https://localhost:8080/"
        },
        "id": "-b_Ow1irvODe",
        "outputId": "4b8b58c8-5955-4c14-b954-0ca0febdbd77"
      },
      "execution_count": null,
      "outputs": [
        {
          "output_type": "execute_result",
          "data": {
            "text/plain": [
              "0.6241218476570213"
            ]
          },
          "metadata": {},
          "execution_count": 148
        }
      ]
    },
    {
      "cell_type": "code",
      "source": [
        "pearsonr(total_Y, total_pred)"
      ],
      "metadata": {
        "colab": {
          "base_uri": "https://localhost:8080/"
        },
        "id": "sZ9mzRel164Z",
        "outputId": "7a45ebbd-c929-4c77-9646-b6d7fee44bab"
      },
      "execution_count": null,
      "outputs": [
        {
          "output_type": "execute_result",
          "data": {
            "text/plain": [
              "(0.7220152713480135, 0.0)"
            ]
          },
          "metadata": {},
          "execution_count": 149
        }
      ]
    },
    {
      "cell_type": "markdown",
      "source": [
        "20 iteration of 10 fold Resutls:\n",
        "\n",
        "Mean Absolute Error: 0.6241218476570213\n",
        "\n",
        "Pearson correlation coefficient: 0.7220152713480135, p = 0"
      ],
      "metadata": {
        "id": "zOl6Htxi0A8B"
      }
    },
    {
      "cell_type": "markdown",
      "source": [
        "# Data Plotting"
      ],
      "metadata": {
        "id": "-0lGbK1-QjaN"
      }
    },
    {
      "cell_type": "markdown",
      "source": [
        "## Visualize columns"
      ],
      "metadata": {
        "id": "c4ISiSRrnbIh"
      }
    },
    {
      "cell_type": "code",
      "source": [
        "height_reduction_list = patient_height_dict[list(patient_height_dict.keys())[1]]"
      ],
      "metadata": {
        "id": "yKPzVyJuI0X6"
      },
      "execution_count": null,
      "outputs": []
    },
    {
      "cell_type": "code",
      "source": [
        "dhdt_list = []\n",
        "for i in range(1,len(height_reduction_list)):\n",
        "  dhdt = height_reduction_list[i-1] - height_reduction_list[i]\n",
        "  dhdt_list.append(dhdt)\n",
        "\n",
        "dhdt_list = np.array(dhdt_list)<=0"
      ],
      "metadata": {
        "id": "z_RxgLVEJSZQ"
      },
      "execution_count": null,
      "outputs": []
    },
    {
      "cell_type": "code",
      "source": [
        "dhdt_list.sum()/len(dhdt_list)"
      ],
      "metadata": {
        "colab": {
          "base_uri": "https://localhost:8080/"
        },
        "id": "GQqmuY5GKtts",
        "outputId": "36af7a86-0346-422f-a88b-be928fbe366a"
      },
      "execution_count": null,
      "outputs": [
        {
          "output_type": "execute_result",
          "data": {
            "text/plain": [
              "0.08092485549132948"
            ]
          },
          "metadata": {},
          "execution_count": 61
        }
      ]
    },
    {
      "cell_type": "code",
      "source": [
        "# importing the required module\n",
        "import matplotlib.pyplot as plt\n",
        "\n",
        "# plotting the points\n",
        "# plt.plot(feet_dist)\n",
        "# plt.plot(angle_dist)\n",
        "# plt.plot(height_reduction_list)\n",
        "plt.plot(dhdt_list)\n",
        "\n",
        "\n",
        "# naming the x axis\n",
        "plt.xlabel('Frames')\n",
        "# naming the y axis\n",
        "plt.ylabel('Two feet distance')\n",
        "\n",
        "# giving a title to my graph\n",
        "plt.title('My first graph!')\n",
        "\n",
        "# function to show the plot\n",
        "plt.show()\n"
      ],
      "metadata": {
        "colab": {
          "base_uri": "https://localhost:8080/",
          "height": 295
        },
        "id": "Um_fccoj5OI5",
        "outputId": "758b3bd6-e0e2-448c-846f-bcae62957a61"
      },
      "execution_count": null,
      "outputs": [
        {
          "output_type": "display_data",
          "data": {
            "image/png": "[encoded data removed]",
            "text/plain": [
              "<Figure size 432x288 with 1 Axes>"
            ]
          },
          "metadata": {
            "needs_background": "light"
          }
        }
      ]
    },
    {
      "cell_type": "markdown",
      "source": [
        "# Hospital separation"
      ],
      "metadata": {
        "id": "1BD_Dzdej8K9"
      }
    },
    {
      "cell_type": "code",
      "source": [
        "from sklearn.metrics import f1_score\n",
        "from sklearn.metrics import accuracy_score"
      ],
      "metadata": {
        "id": "WyrnbmO7B-mo"
      },
      "execution_count": null,
      "outputs": []
    },
    {
      "cell_type": "code",
      "source": [
        "import xgboost as xgb"
      ],
      "metadata": {
        "id": "7NlJMlkAn2Vs"
      },
      "execution_count": null,
      "outputs": []
    },
    {
      "cell_type": "code",
      "source": [
        "print(\"Site, f1_mean, f1_std, acc_mean, acc_std\")\n",
        "\n",
        "for site in sorted_sites[1:6]:\n",
        "  train = data[~np.array(list(map(lambda x: x.startswith(site), all_vid_names)))]\n",
        "  test  = data[np.array(list(map(lambda x: x.startswith(site), all_vid_names)))]\n",
        "  xtrain, ytrain = train.drop(['label'] , axis = 1)[rfacv_selected_cols], train['label']>0\n",
        "  xtest, ytest = test.drop(['label'] , axis = 1), test['label']>0\n",
        "\n",
        "  rf_scores_f1 = []\n",
        "  rf_scores_acc = []\n",
        "  for i in range(20):\n",
        "    model = RandomForestClassifier(n_estimators=100)\n",
        "    model.fit(xtrain,ytrain)\n",
        "    ypred = model.predict(xtest[rfacv_selected_cols])\n",
        "    f1 = f1_score(ytest, ypred, average='macro')\n",
        "    acc = accuracy_score(ytest, ypred)\n",
        "    rf_scores_f1.append(100*f1)\n",
        "    rf_scores_acc.append(100*acc)\n",
        "\n",
        "  print(site, np.mean(rf_scores_f1).round(2), '\\t', np.std(rf_scores_f1).round(2), '\\t', \n",
        "        np.mean(rf_scores_acc).round(2), '\\t',  np.std(rf_scores_acc).round(2))"
      ],
      "metadata": {
        "id": "lhjWNwbUpzkZ"
      },
      "execution_count": null,
      "outputs": []
    },
    {
      "cell_type": "code",
      "source": [
        "## Hospital separation for regression\n",
        "\n",
        "data2 = data[list(sorted_cols[:15])+['label']]\n",
        "\n",
        "print(\"Site, MAE, std, CORR, std\")\n",
        "\n",
        "for site in sorted_sites[1:6]:\n",
        "  train = data2[~np.array(list(map(lambda x: x.startswith(site), all_vid_names)))]\n",
        "  test  = data2[np.array(list(map(lambda x: x.startswith(site), all_vid_names)))]\n",
        "  xtrain, ytrain = train.drop(['label'] , axis = 1), train['label']\n",
        "  xtest, ytest = test.drop(['label'] , axis = 1), test['label']\n",
        "\n",
        "  total_mae = []\n",
        "  total_corr = []\n",
        "  for i in range(20):\n",
        "    model = RandomForestRegressor(max_depth=10, random_state=0)\n",
        "    model.fit(xtrain,ytrain)\n",
        "    ypred = model.predict(xtest)\n",
        "\n",
        "    mae = np.mean(np.abs(ytest - ypred))\n",
        "    corr = pearsonr(ytest, ypred)[0]\n",
        "    total_mae.append(mae)\n",
        "    total_corr.append(corr)\n",
        "\n",
        "  print(site, np.mean(total_mae).round(4), '\\t', np.std(total_mae).round(4),'\\t', \n",
        "        np.mean(total_corr).round(4), '\\t', np.std(total_corr).round(4))"
      ],
      "metadata": {
        "id": "MYDv8BwD22QZ"
      },
      "execution_count": null,
      "outputs": []
    },
    {
      "cell_type": "code",
      "source": [
        ""
      ],
      "metadata": {
        "id": "vE1EMD-mp7i7"
      },
      "execution_count": null,
      "outputs": []
    }
  ]
}